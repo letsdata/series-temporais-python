{
 "cells": [
  {
   "cell_type": "markdown",
   "id": "d0f8143f",
   "metadata": {},
   "source": [
    "# Séries Temporais - Live Let's Data de 10/09/2021"
   ]
  },
  {
   "cell_type": "code",
   "execution_count": 1,
   "id": "3e083474",
   "metadata": {},
   "outputs": [],
   "source": [
    "# Para importar database do Kaggle, deve criar usuário no Kaggle e gerar o token de\n",
    "# autenticação\n",
    "\n",
    "import kaggle\n",
    "import pandas as pd\n",
    "import numpy as np\n",
    "from matplotlib import pyplot as plt\n",
    "\n",
    "from pmdarima import auto_arima\n",
    "from statsmodels.tsa.arima.model import ARIMA\n",
    "\n",
    "from xgboost import XGBRegressor"
   ]
  },
  {
   "cell_type": "code",
   "execution_count": 2,
   "id": "b317e5c8",
   "metadata": {},
   "outputs": [],
   "source": [
    "# no windows, o token (kaggle.json), deve estar em users/<seu_usuario>/.kaggle\n",
    "\n",
    "kaggle.api.authenticate()"
   ]
  },
  {
   "cell_type": "code",
   "execution_count": 3,
   "id": "eabba8c1",
   "metadata": {},
   "outputs": [],
   "source": [
    "# buscando as bases\n",
    "kaggle.api.dataset_download_files('shenba/time-series-datasets', path='./data', unzip=True)"
   ]
  },
  {
   "cell_type": "code",
   "execution_count": 4,
   "id": "63690b9b",
   "metadata": {},
   "outputs": [
    {
     "data": {
      "text/html": [
       "<div>\n",
       "<style scoped>\n",
       "    .dataframe tbody tr th:only-of-type {\n",
       "        vertical-align: middle;\n",
       "    }\n",
       "\n",
       "    .dataframe tbody tr th {\n",
       "        vertical-align: top;\n",
       "    }\n",
       "\n",
       "    .dataframe thead th {\n",
       "        text-align: right;\n",
       "    }\n",
       "</style>\n",
       "<table border=\"1\" class=\"dataframe\">\n",
       "  <thead>\n",
       "    <tr style=\"text-align: right;\">\n",
       "      <th></th>\n",
       "      <th>IPG2211A2N</th>\n",
       "    </tr>\n",
       "    <tr>\n",
       "      <th>DATE</th>\n",
       "      <th></th>\n",
       "    </tr>\n",
       "  </thead>\n",
       "  <tbody>\n",
       "    <tr>\n",
       "      <th>1985-01-01</th>\n",
       "      <td>72.5052</td>\n",
       "    </tr>\n",
       "    <tr>\n",
       "      <th>1985-02-01</th>\n",
       "      <td>70.6720</td>\n",
       "    </tr>\n",
       "    <tr>\n",
       "      <th>1985-03-01</th>\n",
       "      <td>62.4502</td>\n",
       "    </tr>\n",
       "    <tr>\n",
       "      <th>1985-04-01</th>\n",
       "      <td>57.4714</td>\n",
       "    </tr>\n",
       "    <tr>\n",
       "      <th>1985-05-01</th>\n",
       "      <td>55.3151</td>\n",
       "    </tr>\n",
       "  </tbody>\n",
       "</table>\n",
       "</div>"
      ],
      "text/plain": [
       "            IPG2211A2N\n",
       "DATE                  \n",
       "1985-01-01     72.5052\n",
       "1985-02-01     70.6720\n",
       "1985-03-01     62.4502\n",
       "1985-04-01     57.4714\n",
       "1985-05-01     55.3151"
      ]
     },
     "execution_count": 4,
     "metadata": {},
     "output_type": "execute_result"
    }
   ],
   "source": [
    "# vamos importar a base de produção de energia elétrica\n",
    "df = pd.read_csv('./data/Electric_Production.csv', index_col='DATE', parse_dates=True)\n",
    "df.head()"
   ]
  },
  {
   "cell_type": "code",
   "execution_count": 5,
   "id": "3e7c6e64",
   "metadata": {},
   "outputs": [
    {
     "data": {
      "text/plain": [
       "(397, 1)"
      ]
     },
     "execution_count": 5,
     "metadata": {},
     "output_type": "execute_result"
    }
   ],
   "source": [
    "# quantas linhas e colunas?\n",
    "df.shape"
   ]
  },
  {
   "cell_type": "code",
   "execution_count": 6,
   "id": "1ff6cc31",
   "metadata": {},
   "outputs": [
    {
     "data": {
      "text/html": [
       "<div>\n",
       "<style scoped>\n",
       "    .dataframe tbody tr th:only-of-type {\n",
       "        vertical-align: middle;\n",
       "    }\n",
       "\n",
       "    .dataframe tbody tr th {\n",
       "        vertical-align: top;\n",
       "    }\n",
       "\n",
       "    .dataframe thead th {\n",
       "        text-align: right;\n",
       "    }\n",
       "</style>\n",
       "<table border=\"1\" class=\"dataframe\">\n",
       "  <thead>\n",
       "    <tr style=\"text-align: right;\">\n",
       "      <th></th>\n",
       "      <th>IPG2211A2N</th>\n",
       "    </tr>\n",
       "  </thead>\n",
       "  <tbody>\n",
       "    <tr>\n",
       "      <th>count</th>\n",
       "      <td>397.000000</td>\n",
       "    </tr>\n",
       "    <tr>\n",
       "      <th>mean</th>\n",
       "      <td>88.847218</td>\n",
       "    </tr>\n",
       "    <tr>\n",
       "      <th>std</th>\n",
       "      <td>15.387834</td>\n",
       "    </tr>\n",
       "    <tr>\n",
       "      <th>min</th>\n",
       "      <td>55.315100</td>\n",
       "    </tr>\n",
       "    <tr>\n",
       "      <th>25%</th>\n",
       "      <td>77.105200</td>\n",
       "    </tr>\n",
       "    <tr>\n",
       "      <th>50%</th>\n",
       "      <td>89.779500</td>\n",
       "    </tr>\n",
       "    <tr>\n",
       "      <th>75%</th>\n",
       "      <td>100.524400</td>\n",
       "    </tr>\n",
       "    <tr>\n",
       "      <th>max</th>\n",
       "      <td>129.404800</td>\n",
       "    </tr>\n",
       "  </tbody>\n",
       "</table>\n",
       "</div>"
      ],
      "text/plain": [
       "       IPG2211A2N\n",
       "count  397.000000\n",
       "mean    88.847218\n",
       "std     15.387834\n",
       "min     55.315100\n",
       "25%     77.105200\n",
       "50%     89.779500\n",
       "75%    100.524400\n",
       "max    129.404800"
      ]
     },
     "execution_count": 6,
     "metadata": {},
     "output_type": "execute_result"
    }
   ],
   "source": [
    "# Estatística descritiva\n",
    "df.describe()"
   ]
  },
  {
   "cell_type": "code",
   "execution_count": 7,
   "id": "3de1f1f9",
   "metadata": {},
   "outputs": [
    {
     "data": {
      "text/plain": [
       "(Timestamp('1985-01-01 00:00:00'), Timestamp('2018-01-01 00:00:00'))"
      ]
     },
     "execution_count": 7,
     "metadata": {},
     "output_type": "execute_result"
    }
   ],
   "source": [
    "# Quando começam e terminam os dados?\n",
    "df.index.min(), df.index.max()"
   ]
  },
  {
   "cell_type": "code",
   "execution_count": 8,
   "id": "bb211b81",
   "metadata": {},
   "outputs": [],
   "source": [
    "df.columns = ['producao']"
   ]
  },
  {
   "cell_type": "code",
   "execution_count": 9,
   "id": "c2cbf5ff",
   "metadata": {},
   "outputs": [
    {
     "data": {
      "text/plain": [
       "<AxesSubplot:xlabel='DATE'>"
      ]
     },
     "execution_count": 9,
     "metadata": {},
     "output_type": "execute_result"
    },
    {
     "data": {
      "image/png": "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\n",
      "text/plain": [
       "<Figure size 720x432 with 1 Axes>"
      ]
     },
     "metadata": {
      "needs_background": "light"
     },
     "output_type": "display_data"
    }
   ],
   "source": [
    "# Vamos dar uma olhada no gráfico de consumo x anos\n",
    "df['producao'].plot(figsize=(10,6))"
   ]
  },
  {
   "cell_type": "markdown",
   "id": "840a0d25",
   "metadata": {},
   "source": [
    "### Prevendo com ARIMA\n",
    "\n",
    "notebook referencia:\n",
    "\n",
    "https://www.kaggle.com/ludovicocuoghi/electric-production-forecast-lstm-sarima"
   ]
  },
  {
   "cell_type": "code",
   "execution_count": 10,
   "id": "bc5fbc04",
   "metadata": {},
   "outputs": [
    {
     "data": {
      "text/plain": [
       "<Figure size 576x432 with 0 Axes>"
      ]
     },
     "metadata": {},
     "output_type": "display_data"
    },
    {
     "data": {
      "image/png": "iVBORw0KGgoAAAANSUhEUgAAAagAAAEYCAYAAAAJeGK1AAAAOXRFWHRTb2Z0d2FyZQBNYXRwbG90bGliIHZlcnNpb24zLjQuMywgaHR0cHM6Ly9tYXRwbG90bGliLm9yZy/MnkTPAAAACXBIWXMAAAsTAAALEwEAmpwYAACqPUlEQVR4nOydd5hkR3W33+o43T2hJ+7E3dmcV5sklANCAQkFcjRBBNsEIzD4EwYbY8CIaDBgQIAIBgQIhASKKIfdVdicc5i4k3tCd0/H+v64oe/t3LszuyNxf8+zz/bce7r61LlVJ9WpukJKiQULFixYsDDTYDvbDFiwYMGCBQvZYBkoCxYsWLAwI2EZKAsWLFiwMCNhGSgLFixYsDAjYRkoCxYsWLAwI+E42wxMBerq6mR7e/vZZsOCBQsWLJwCtmzZMiilrE+/Pu0GSghxJ/A6oF9KuUK99nXgBiAKHAHeJ6UMCCHagX3AAfXrz0sp/6HQb7S3t7N58+bpYN+CBQsWLEwTJiJxfvbcMba8ZtGJbPfPRIrv58C1adceBVZIKVcBB4HPGO4dkVKuVv8VNE4WLFiwYOHliRNDQb756MGc96fdQEkpnwGG0679VUoZV/98Hmidbj4sWLBgwcLMQtdIOO/9mVAkcQvwkOHvuUKIbUKIp4UQl5wtpixYsGDh5Yb/fvQg/7fp+Nlmo2h0Dofy3j+rBkoI8VkgDvxavdQLzJZSrgE+CfxGCFGZ47sfEkJsFkJsHhgYODMMW7BgwcIMhZSSX246zu83d51tVopG10gYn8ue8/5ZM1BCiPeiFE+8U6oHAkopI1LKIfXzFpQCikXZvi+lvENKuV5Kub6+PqP4w4IFCxZOC8mkZDQUK4o2lkjy2N4+zubZpgMTEUZCMQ73T5BMFubjD1u6+PIDe88AZ7nRNRKircab8/5ZMVBCiGuBfwFulFKGDNfrhRB29fM8YCFw9GzwaMGChb9t/PqFE1z81SeYiMQL0n71of184Jebef7ocEHa6cLBkxMAhGMJugP513YAPnX3Dn787DF2dgUK0sYTSQKh6OmymIGukTCt1Z6c96fdQAkh7gI2AYuFEF1CiPcD3wMqgEeFENuFED9UyS8FdgohtgN/AP5BSnn2nrgFCxZeUfjGIwd40w82FkX7zKFBxiNxdnYGCtL+aVs3UHhN5VSwozPASLCwcTjQN65/Ptw/kZdWSokQyucfPV04BvjFphNc9vWniMQTpuvJpGTD4cEM41VMBCelpHM4RGv1WYygpJRvl1I2SSmdUspWKeVPpZQLpJRt6eXkUso/SimXq9fWSin/Mt38WbBgIYWhiQiP7Dl5ttnIif0nx/j2YwdNqbQP/nIzn/3TrqK+/+CuXrZ2jGQo2nRIKdnWMQLAtjQDlUxKJmOp73cMhRhSDciRQbNh+Ld7d/OG/91Q0GBkaxeU1OFb79jEtx/LXYqt4cDJMX0951D/eF7antFJNBFq/cyHPT2jjIZjGf245Rcv8c6fvMAPDUbuzueOsfTfHy4YxQVCMYLRxNmNoCxYsPDywS82Hufv/28LXSPFRQLDRXj2+SClZGdXgMNpCvXHzxzlS/fvzeDjjmeO8u3HDjE4ofzuZCzBUwf6+cuOHuKJZN7f6hub5OhgkKQsHOl0DIf039h6IqXApZTc8L3nWPJvD/NLtVrOGLkc6Q+a2rnrxQ62dgT46sP79WuxRJIfPHUkIyr66sP7WfJvDzM2mVr3OjoQZDKWZGtHIC+/AEcGgqxsraK+ws2Bk/kN4v7eMQAuWVhH79ikyWA/fXCA/vFJE33HkCKvAydTfR2fjPHUAaVA7aAqgyMDE/zn/XuJxJP6b2i4Z2sX96qRJkDvqPIbzX7LQFmwMOMxGUsUlRopFRsPD/LzDceKot3ToyiVF48VzqxvODzIui89yp6e0Yx7J4aCDIxHCrbx7ccOceP3NvC+n7+kXxsNx/jyg/v4yXPH+PULHfr1ZFLyzMFBAI4NKoZgZ9cosYRkbDLOdkOkc2wwyMVffcJ07fmjQ/rnIwNmQ5IO7XvLmyvZ1hnQI7be0UldRi8dVwzXcFDp54qWSo4aIqhgJE5cfZ7HB1O/96et3Xz14f18/8nDpt+860Wlr999/JB+TTN++3rHTNHVkYEJvvLgPsLR1LXeQJgWv5flzZXs7s58JkbsVw3Na5bOQkroVvcjHe6f4D13vsh5X35cNzqgGGzj9wAO9il9dTts+vMwGrD0COqTv9/Brb/brjsHfaoRnFXpzsmnZaAsWJgBSCYlS/7tYT533+4pb/uHzxzliw/sYzRcuCJtn+r1vlDEYv8ft3QhJbyUZsx+vuEYl339KT519w5AiTpuf2g/h/oy006aIewcDusR0K6ulHLtMEQ6+06OMTihGINjqiHYfEL5vk2ge/MAD+zsoWskzD/+aotu9Ld1BHA7bOr38xsobQPpdSubGA5GGVGr+XaohqvK4+TogMKDlt47t72GjqEQMbUf2m+0+D10DId0I3fPNqUMXIsgNJS7lZPn/rStR792UFX48aRkryEi+dXzJ/jRM0f58K+3IKUkkZT0jUdoqipjVaufQ/3jhKJxVbYhbv7+Bj75u+26kdt/cpzWag/LmitNct5hMOiP7FZSveFogn7V2dhn4EEzYK9d0UjHcIhoPKk/H0gZPVCiLQ2aYe4f0wxUGblgGSgLFmYAdqtRyG8MEcNUQErJnu5REknJs4fy7xcMhKL0qErzhWNDeWknYwn+urcPgF3d5lTOzzYeB2DjkUGklPSOTvLDp49w1X8/k8GbMT3WpyrBHWpV2TltflMqToue7DbBsUHl+tYTI8yr97Gq1W+K+l5QP/eOTrJVXWPpGgkzt85HXblbNy4akknJw7tP6kp9OBjF67KzaFYFoESEoERWLruN61c1cWwwiJSSoQmFdkVzFfGk1Gk1A3XZ4noi8SQD4xEGxiN6pZ8xugtF4/SMTuJx2hmciOiVgwf6xqn1uQDYfDzVv6NqBPjkgQG6A2EGxiMkkpImfxnntFaRlLBbfS4P7Ople2eAe7Z1s+mI8lz3946xpLGS2WqJtybnXd2jeF125tX5dP461TSrz2U3RVAHTo7jc9m5ZGE9iaRU0qLjEYSAthoPXYYIyvi9bWq68uSo8rwbKs6igRJC3CmE6BdC7DZcqxFCPCqEOKT+X61eF0KI/xFCHBZC7BRCrJ1u/ixYmAl4WvX+vXk2LZ4KekcndQ//yf1mAzU4EeGjv9nKEVVZa0rk/Hk1HB8KmdZC0rGjM8BEJI7PZTelk0ZDMU4MhZhV6SaWkPSNRegbS0UKxjTbwESE4WCUyxcr+xh7VIW2sytAe62XlS2Vpgjq6YP9LG2qZG6dT4+gDvdPsLSpkrWzq9nRFSCWSDIZS/DS8WGuW9kIoPPXEwjT7Pcwr86nK3hQDOXHf7edf/jVFu7ZqqyRDE1EqC13MadWUeAaH9s7AyxtrmRpYwWhaIKTY5MMB6PU+Fx6NKKlADUDdcmCOr2N46rxunhBnW5YjLSvXtoApAzigZPjnD+/lnNaq7jrxU49GtzTM8aiWeWqvEbpGVVkp0VQmhwBnj00wOwaLw6b4KXjw0TiCY4OBlnSWEF9uRu3w6b3b1f3KMubK1kzu5rtampTW3+6ZGE9A+MRPRI/cHKcBbMqmN+g8HF0YIKBiSi1Pheza7ymCEpbj3rDmhaODEwQiSfoG5+k1ufC5chths7WYbG3AY9LKRcCj6t/A7wWZe/TQuBDwA/OAH8WLBSNyViCHzx1hGg8/4I8QCIp+c5jh0wKOheeUaObcCxhWlfIhU/dvSOjcm00HONf/rCDv+xIpYh2qcp5do2XTUcG9evJpOTdP32R+3f28uDOXiCVsrnhnGbAXKq8u3vUtKagpacuX9zAof5xnWft99567mxASQn1jaXSPv9+325ddtq+nVcvUZSyZqB2dY2yqtXP7BovgVCM0XCMYCTOlhMjXLqoTjVQQWKJJF0jYdprvayd4ycST7K3Z4yDfeNMxpLcsKqZWp9LT431joZpqipjWXMle3rGdD4O9I3rMtP6PBSMUutz6xHGCVVJH+wbZ1lTBfPrNaUcZHAiQq3PxYKGclwOm56iPDYYpLmqjEWNShTWORLSlf2Nqoy1lJpuoBYrsjg+GCIUjdMxHGLxrAo+cMk8jg0Gee7wIP1jkwxORHjj2lZcdhs7OgOcVJ9HY6WH+go3fq+TY4NB1ViPcNWyWSxvrmTziREO90+QSEqWNFVgswnaarx0DIdIJCV7ekZZ0VLF6tl+hoJRukbCulG9Ykm92mdFRkcGJljYUM68ep9yfVCRRV25mxa/h+5AWE9r7u0dp8rj5PIlDcSTksP9E/SNTtKQJ70HZ+mwWOAm4Bfq518ANxuu/1IqeB7wCyGapptHCxaKxaN7+/jqw/sLpstAKd/978cO8tsXOzPuReNJPUKRUrKvd5y6chdSZq6PxBNJ0zUpJY/t6+P+nb2mooqnDvTz+81dfOyubWxRK8/2dI9itwneuLaVntFJvXLs6GBQV9ya99w9EsblsHHhfMXjP6wugkfiCV733ee46PZU0YHmsb9uVRNJCfdtVyKPnd3K/TevU85/3ts7pleE3f6GlRzsm9Cr3/afVH7/ClUpdwfCjIZj9IxOsrTJnH56/ugQsYTksoX1zKv3cXwwxImhIPGkZE6tj3VzqgHY2jGiy2pBQ7lujMLRBCOhGM1+D+fPqyUcS+ipxGfV1GFTVZm+yD+kRgJlTjuNlWWcUCPKkVCMObU+5tWnoobhYJTacjdOu42lTZV6uvboYJC59T5a/B6EgI6hMB3DIYSA1yybZZKBZhgvU6PJ40NBDqnyX9xYoUeZu3tG9QhtdZufpU0V7OgKGCriFIXfVu2lcyTMjs4A0XiSC+fXsm5ODTs6A3pEuUQ1nLNrvHQMK7xNxpIsbapktRqF7eoe5aCaZlzfXqP2OUgoGqd/PMLcOh+VZU49bTowrhiopioPA+MRLv7qkySTkn29YyxtqmBZk/Kb+3vH6RufpDFPgQScvTWoWVLKXvXzSWCW+rkFMM7mLvVaBqyz+P728Ll7d/GFv+wpinbj4UH+96nDhQlLhKZQtAomDROReEYRwovqmoG2kG/E23/8PBf81+NIKRkNx5iIxLlskaKoj6Stj/zDr7ZwxTee0ts/OTapRxaHDFGOprggVXxweGCCOTVKhAGpRW5NIZa7HXobXYEwLX4Ps2u8uBw2Dqt8bD6eKrP+4VNHAOgNTFLlcXLtikbOba/m648cIJZIsqd7jLYaD201XtpqPIqBGotgtwnesr6NSxbW8f0nDzMRiXPg5Dh15W7aarxUe510j4T1cvNFs8r1I3CODwXZ1hHAbhOsnVPNypYqookkj+xR1sDaa300VXmYVelmZ9coxwaD6jqIl2XNlRzqm+DEsGK0mv1lnD+vBiFg42El3fjs4UHm1/u4dGG9HkUOBZUUH8DsWi8dw0E9+plT42VWpRufy86RgaCe4gNY0VzJnu4xkknJsYEJ5tb5dCN3fChI53CI5ioPNT4XbTUePa26ozPAwoZy6srd1Fe4OTEU1I3l4lkVVJQ5mVXp5uhAUK+aXNZcyTltfnZ1jdI1EqLMaaPK4wTUNaDhELvVMbGypYr17dVE4knuerGTMqeN9lol8pld46VzOKSPiQUN5SycVY5NKGnfAyfHWdxYoacJjwxM6BGl5kTMq/fp0WRduYuFavqxOxCmOxDmwMlxljRW0l7rw+2wsbd3jJOjkbwFEjADiiTUc/hKrq21zuL720IiKbl3Ww+/e6mz4CZLgDuePco3HjlAsIhjakqBpjTSK9I+ftc2zvnCX7l/Zyq9phmJrSdGTHt0tpwYYcuJEYJR5UgarWLskoV12IS5UqprJMRj+/pNv2m8/6Jh4Xx39yirWquYW+fTI6ijA0Hm1vlY1qSsj+zVDZTS1tXLZ3GkfwIpJd0jYZr9Zdhtgnl1Pv33njrQj8tu4/VrWnju8CDReJLe0UmaqsoQQjE8WjpISfsoXvKypko1xTdJfbkbm03wwUvmMRKKsa1jhIN94yxuVBRZs99DTyCsG/5FsypY2FCBy6GksHZ0BVg8q4Iyp51zVO9ei9ra1XWiFc1V7O4eVVNrHsqcSuFCNJHkcVWGzVUe/F4XSxoreen4MLFEkhePDXHxgjoWNVYwFIwyMB5RjY5bb//YYFBXynNqfQghmFvv48jAhBJtqcZsRUsV45E42zoDjE3GmVun9G9pUyV7ekbpGA7RVqPs+1k8q5L9J8eVTcGdAdbOrjb93oG+ccqcNt1Qz6sr58jABHt6xphT66WizMm6OdUEowke29dHs9+DUI+HaKv20hUIs6d7lLpyNw2VZaxXo8ztnQHWzanGYVfU/+waLxOROC+pY2lBQzllTjvttT729Y5xoE8xUE67jdk1Xo4OBPU1Ms3IzVdloaX4rl3eyBduXA4o+6rCsQTLmipx2G2sb6/moV29DAUjNFXl3gMFZ89A9WmpO/X/fvV6N9BmoGtVr1l4GeFP27qm/NyuAyfHmYjECUUTBc87SyQlW06MkJSpNZF8eObgAO/72YsZhm9f7xgbDg+aru/rVZS2sfpMSsnj+5Uh/L9PHknxcHyEunI3wWhC/x4om1A1bDkxom9GXdBQzkUL6rhve4+euvvdS6mEghbpaG1Ve53ct62bWCKJlJLd3aMsb65i7exqtnWMkExKjg8Faa/zUVvuprGyTI+yDvdP0OL3cE6rn/GIkq7pViMogIWzKnRj8dSBAV41r4brVjYxEYmz+cSwvp4D6OmuI/0THB8KMq9OUVpLmyo5Nhjk+FBQ3+uyXC0k2N87zsG+CRbPUv6eU+vlgOqte5x2WvweXA4bK1uq2HJihB2dAc5p8wPQWu2h1ufiYN8EHqed+gql7RUtVRwZmGBvz5i+LnL+vFoA7t6syFHbFLqqpYo9PaMc7p9gMpZk7ZxqFqsVe4rhktSpRmd+fTmDE9HUel5tymDs7BolmkjqlXYrW6oA9DUtTRYrWqo43D/BgZPjetSxpLGCY4NB9p8cJxCK6VHuyhY/O7pG1aiqArtNMTrzG3wc6VcMlCbH8+YqabfO4TAXq8UYAK01XqLxJE8fHGBFi0LbUFmm//YFqlwgFQU9sb+fWZVuKsuUKGzRrAoe29enpP0aK1Ueytl/ciwVQRlkMRKKMRlLUlfhxmG3cfVyJTH24K5efTwA3Ly6hZ7RSQRw4+pm8uFsGag/A+9RP78HuM9w/d1qNd/5wKghFWjhZYBjg0E+8bsd/PS54jaG/nzDMbZkSYGlY4taKuywCZ7Y15eX9mDfOOOTSuS0o8A5aoMTEd5954s8eWBAjzpAKSJ4x4+f550/eYGvPXwAUPZydAeUdRptoRlSGxKrPE51gT5B53CI8Uic91wwB4BNR5V1jkAoyuP7+3jvhe14XXa2dQT0CKq12sNb1rfRHQizSa12e2TPSc6bW0OZ06avSezrHaO12sNnr1/G5hMj/OTZY3QOhxmbjLO8uZK1c5QF7uePDTEZSzJXVZLLmivZqxmogQnmN5SzQK3A2t09ysB4hBa/onBWtlTSHVDWMA71T3DZonounF+Ly27jyf39nBydpFH1fjUlvOHIIJOxpG6wljVVKvukjo/oi+G15W7qyl08tq+PcCyhr4O8esksekYn+f3mTiW9pCrlNW1+tnYo0cg5rYryF0LoFXNr5/j1qGFFi1Jefah/Qvfs6yvcLGms4PhQCI/TrqeUlrdUMhKK8bg6lpY3V3JOWxUuu40/bulSeU0ZKIAn9/dTV+7S9yvNq/fpaVct2lo4qxynXeiRtCb7Fc2VJCWMR+J6e0ubKkkkJf/3vPK28zVqBHXZ4nqi8SSbT4ywvr1aH5Pz68sZm1QKJ5Y3K7JoqvLoEdn1K1PL9W3q8UFDwahuzAA9irpgvsFAqUbmcP+EPh5AWfvSjkNarD6ni+bXcnwoxFMHBqjxufSUouYQANSVK7KYVVGGx2ln45Eh7Dahp/2uXdGIz2Xn9Wtadfnkwtk6LPZ24CohxCHgNerfAA+inF5+GPgx8OHp5s/C1EJTgM8dHixAqVSdfeH+vfzXg/sz7kkpTVHY1hMjNFS4uXxxPY/t68/7WgNtv0iF22Haa5IN9xsq3p47lOL5UP+EvjnzoV29SCn19YkrlzQQiSd5950vkExKvc9vO7eNeFKy/+Q4x9QUyPnza1k8q4KnDyrrpA/uOkksIXnTulbOafWrEVSYcreDKo+TK5c2YBNKevDYYJCDfRO8dkUjCxrK9fPVlAXnSt60rpVVrVU8eaCfLR1Kn9fOruYitcjhlxsVxacZkGVNlRwemCAYiXOkP8iC+nJWtlZhtwnuUY+gaVEV2+o2RZF9Rz3V4PLFDfjcDl41r4aH95xkKBilWY2gqn0u/F6nnkbTlJXmMYP5tICFDRX6PiVN8V2lFg2EogkuXZhK2a+dk1LQRqX6/65dwn/csIwfvGudfk2LFACT4tOM2SeuWqiXNGsK/nebO/E47cytK6eizMnFC+v0aFgzOlp/DvSNM6c21a5miBW5+wFwO5S9U4MTURw2oZ8zt1I1rgBvPVdJEl20oBa7TXDXix3MqnSzQG3vVapDYrcJbrlorv69+YbfW2YwOpctqqetxqMXMQCmV1hcMC8VWb1+bQuXLKzTS9FBSQdqWGD4jdVqxHrF4no9MtSKOzYdHdJL8AF9v5jLbuMKtaDDZhM6zdImJT0LUFHm5OFbL+XLr19BITgKUpwmpJRvz3Hryiy0EvjI9HJkoVQo56Up6xuat5oLe3uVNMiOzgBjkzE9XZANW04MI6WS5jo+qKSiNHzu3t38+oUOdn/hGsrdDvb1jrGipYorl87isX39SnpIVW7p2N45Sl25i4sW1LHpyJB6crNASsmPnjlKfbmb169pwWYT7Osdp8bnYl6djw0Go6rl4z9yxXy+/+QR9vSM6QvaH3/NQoYmomw4PETHcIh9veMIAW9e38qPnjnKrq6AfsTN3Dofly2u5+cbjhOMxHlifz+t1R6WN1eybk41P3j6CBVlDlqrlfUDr8vB3Dofe3vHdA/+NUtnsatrlE1Hh5iMJTg2GNS95fPn1fLzDcdprfZQ4XawuFFJCc2p9fKweuhruyGCSiQlP994nHAswfnzaqgsc7J2tp8H1FJzLcW3sqUKm1DSPm01HuarSvryxQ188X7lHUKzDQpqbp1P34CpKfTWag8NFW76xyOm9NPCWeVsOjqEx5naCFvlcfKhS+cxPhnn1tcs1GkvX1zP+y5q5/VrWkzGYUVLFStaUkofoLGyjM9et5RwLMEb1qZqqz551SIWNlTw/ovn6deWNlUghJIaWzPbr6fRrl3eyBOqgWpQU4dGZW+MaDTDP6vSbTJWq1r97OkZ49z2Gn2dp7GyjEsX1fPaFY34vcpz9XtdnNdew6ajQ7xuVbMeNZY57bzzVXNwqCXgGs6bW8PfXzqPRFKaUnSfu34Zn74mqfcBFKOzpLGCm9e0cPHClOwvWVjPJQvNa/Yel522Gg+dw2HefWG7SfZ//cSlLGwo1+d9a7VXLyF/87rUakxbjZf7P3Yx8+p9eF0ps6JtsXj/xSlDmy7TfJh2A2XhzGFwIkL/WMTkXU0FfvNiB5/9026+cONy3mMYwNmwr3ccl91GNJHk+SNDXL28MSftC0eHcdgECSm5b3sPH1cV09BERD+D7WDfOKtaqjg6EOSyRfVcqe6ZeXx/n5qCkNy/Uzmh+p+vXky528GeHmUt5vx5tdy3vYcjA0EWNJRzfCjE7Q8p0VowGufdF7Szv2+cJY0VXLSgjq8/coD/efwQ/3TlQracUNaPbrloLv/71BEe39fP4EREMQKzKvjs9Uu56fsb2H9yjN09o8yt8zG/vpxan4vtnaP43HYq3A5qfS4uW1TPHc8c5dlDA2w8Msgb1rYghGDdnGoSScnzR4e4dkVKTsuaq9h6YgS3w0ZTVZl+JM0927p5bF8fSZmKTl41t4Y7njnKPVu7uWxRva6kLpxfx4mhDla0VNKopbXUcfGNvx7A57Jz6SJFUV2ysJ6Xjo/gsAm9mMLjsqNVsH/wknm6gnr1EsVAzan1mnjWDFSF20G9muIRQvDAP12C22kzOSpaJPAv1y7GY9iY/K/XLc0YI16Xg8/fsDznGDJCCMEHL52Xcb212ss/Xj4/o92LF9Tx7KFBvegC4KY1zUzGE/hcDj396LSnEk1vU/d3gfIMPnz5fN5+XuoawK2vWchli+q5bFHKEAgh+OUt52Xwdu2KRjYdHeKmtLWYf3vdsgzaMqedz2SRUZnTrkcnGlwOGw/femkGbS7c95GL8brM7QghdAfCiF/cci5jk3G9qENDusMAyjP9/eZObliVf60pFywDNYNxsG+cR3afZF17tb43JR++9vB+Htp1km3/fpXuueXCI3tO8l8P7uPPH71YzyNnQzia4NuPKWme7zx+iDesbaEiT1S0t2eMq5bN4tG9fWzpGMlvoI4Ns7rNTzSR5LnDA7qBund7Ku12qG+caq+LaCLJ/IZyGirLmF/vY+uJgNqPPj521zZA8fqvX9XE4f4JXr2kgQvVlNDGI4MsaCg3vZjt/p29vPNVczh4cpy3nzebD1wyl60nRvjBU0f4yBUL2HximPVzqqktd7O0sZIXjw8Ri0sWN1boE9cmlA2I2zoCXLqoDiEE582tYdORQeY3lDO3Xqn2Wt9ejcdp55t/PUgomuBytZx8jZoWSkpME3hZUyV/2dHDUDDC1csaEUJw9bJGvvTAPv1ZaAbq3Lk1uB02IvEk5xq8+3+4bB7lbjsfffVC3TNvq1bKhONJyWuWzdKV0evXtLDpyBCfuW4JVd7Us/3Gm8/h6MAEf3f+HP3a3Dof93/sYubXl+N2pJTZ1csaOTIQ5B8vm2eKsrUCBiPeem4bCxvKTSm7s4E733suW06M6IYIlBTduy9oz6D94CVzOaJWRGqw2wT/cu2SDNpZlWUm450P73jVbFa0VJpSbmcDWpl8MVjQkD1zkQ1vXt/Gm9e3FSbMgbNeZm4hN77y4D6++ehBPnNPce+62doRYDwSz9ijkw2/fbGDE0MhvcImF7Z1jDAwHuHDl89nOBjl4d2pdwWdGAryhy1d+knNw8EoJ8cmOaetimXNlXrKB5TDLa/99jP6mlAsoez6XztHMb7bOgJ6SfhLx4ZprfZQ5rRxsG9C35+xUF3AXd5cxV51L8iPnz2qp7c2HRni4MkJ4knJ8uYqZtco6Qhtv8uOzlHKnDY+esUCXjo+zNaOEWWhvqkCt8PONSsaCccSvHBsiM7hsJ7OOW9uDVtOjLC7Z1RPK3pcdtrrfDy6t4/BiYi+wH3Jwnp6Rid59tCgvlDvdtg5f14Nh/onqCxz6IrZ73Uxv95Hjc/FlUu1rYCp9YXJWMrozK71KmtI/RN4XXa98qqyzMn9H7uYz163lHe8KmVI5tT6+Oz1y0zOh80m+OobV/HxKxfyH4aopK3Gy10fOj9DSb5pXSv/cu2SjLTuipYqU+QDSiRw30cu4toVhffVlzntXLigrmC6eLrhtNs4f16tnnLLh89ev4w733vutPCwbk5NYcK/UVgGaorQORya8lcldKrVXSeGQgVf/jU2GdM3eG7rNL+AbHtnwHTK8NhkjA2q0v7T1vxV/Npmzfdc2E6L38NDBgP1L3/YyafuVo7Qh9T+nGVNVayZ7WdnV4C4WgL9g6eOsP/kOO//+UvEE0mODEwQTSRZ3lzJRQtqiSclLx0fRkrJ5hPDnDe3hgUN5RzsG9eLA+brBqqSntFJNh4eZMuJEW65aC4XzK/l+WND+i7+5c2VCCG4cH4tm44OkUgq7x1a0axEWVKir6WsUBfMtRTY/21Sigu0RedXza1hMpYkFE2wxLDwv1Td5wOpRfJLDPl+bZEZ4Ly5ilH62KsX4nOnEhf/fsNyvvHmVabzyM5tr+aa5bNYPKuCVxsM199fNo81s/18zBAVgVIS/sFL5xXlBb9xXSufuGoR1SV4zBYsnC2ctRSfEGIx8DvDpXnAvwN+4IOAdjzEv0opHzyz3JWG/vFJLvnak7x1fRtffdOqwvRjk3jdDr1cNRuklPQEwly0oJYNh4fYeHgwb6i8u2vU8IbMAO9UvWntqH2Au//hAs5tr+HpAwNEE0kuX1zPUwcG1JLh7Du6D/VNUFHmoKHCzXUrG/n5RmWx32EX+ptGd3YFGJ+M6cp6aVMFw6EoP9twnP0nx7HbBN2BMBfOr2XjkSG2dQb005OXNVXSWu3FZbex8cgQc2p9DE5EObe9BiRsPDKE3+uisbJMX8fQKrD+66F9OGyCm9e0IAT8dW8fv3upk7ry1BlqFy2o4+4tXWzrGGFX9yjvfNUcljZVsqq1ip1doyxprGCpevzKwoYKnHbBQ7tPUua0mfaaeF12ljZV8vo1qcX3q5fN0osLtD00bTVe3rSulRa/h/ca1uvee2E7zf4yXpeWizeuU2jwuhz86O/WZ1y/aXULN63OerCKBQuvSJy1CEpKeUB75TuwDggBf1Jv/7fhdfAz2jgBbFdTWb/b3MloyHzcTSIp9aPzQXmJ2bXfeZbzvvyYad9NOgKhGKFogisWN1Drc/GsoQQ6Ek/wn3/Zy5t/uFHf5LlDPaBy/ZxqXjg2pJdhG1NyP99wHFBeNFdR5uC21yr580cN+4redscmXvudZ/XjVA71j+tVPBctqCOWkOp5Xsphm+++YA5JqRyHs7dnjFmVbmrL3axRo4dtnQEe3duHEPBfr1+JwyZ4bF8fe3vGcDtszK3z4XHZWTPbz4bDgzypVlC9am4Nq1qrODk2yaN7T3KRoQpMMxy7u8e4bFE9NT4XVy2bhRBKtHjF4no9wtDSaV97+ACReFI/0+ydr1IWtt95/hw91eRy2PQF/vPm1uqL47XlbjZ/7jX84R8uMDkVN61u4Y//eCG/vOU805rfN958Dp+4apEpyvG47Ny0usVUaWXBgoX8mCkpviuBI1LKE2ebESOKPQ1hh2HxXXsZmYZ3/eQFLv7qE7rB+P3mToaDUULRBP96zy49LZhISu587hi3/nYbkXhCT+m1Vnu4enkjj+w5qfNz/45e7txwjJeOj/Cjp5VTCXZ0BphT6+Vt582mczisn7bw0O5eljVV8u4L5vDYvj7GJ2NsPDLE+fOU/TnttV4eVd/r0zUS4vmjw+zrHeNf79mFlMqpw9rRNWvUvTHbOgP6XqMPXjIPl93G80eH2Ns7pleBtVZ7qCt3s61jhK0dIyxsKKe9zser5tXw1z197OgKsKSxQlfsFy2oY2/vGD997hgrW6qYV1/O685pxmETTMaS+q50UPbdfPKqRSxrqtTLV1urvfr+Ge10bFAWrJc2VepHAmknC7xhbSvfess5vDUtKv3wFQu4eXUz33izORL2uhxZ10zWzanWq+EsWLAwtZgpBuptwF2Gvz+qvg/qTu1dUekwHhZ7/ORw3o2bGl44OsQb/neD6e2OubDlxAhrv/goTx7oL0i7o1N5h8r8ep++hwLgr3tOsunoEIFQTD9h+TcvdLBuTjXfedtqDvSN85gavdy9uZP/vH8v927v4blDg7qBavF7efcFc4jEk9y9WTF+9+/socXv4S3rW3WDt6MrwDmtfl63qonKMge/famDk6OTbO0IcN3KRm5a3UwknuRnG47TMRziwvm1CCG4ZkUjGw8PMjgR0d9I+t4L29nRNcqDu04yOBHVd5dXeZ1qBd0ILxwbZm6dj7YaL+vbq/nzjh4O9o3rx9EIIVjd5mdbR4DtnQHduL1+TSvHBoO8dHzEVBhwycI65dXTgTBvVPew1JW7uXxxAx6n3bR5E+CfrlzIgx+/hAsNkdWHL5/PujnVXJJmML7yhpUAvGZpg77W47TbeMPa1ox30bzr/Dl8+21r8r5EzYIFC2cGZ91ACSFcwI3A3eqlHwDzgdVAL/DNbN8zHhY7nrDz3ScKn1z9/aeOsLUjYEp75cKft3eTlPCtvx7MMH7Dwaieykuqi+/ntPm5cuksnj86pKf0fvNi6u2oW06M6KdPX7G4nutXNuFz2fUTF+7f2atUo5U5eGj3Sf3dOC3VHn3N5P5dvYyGYjx7aJDrVzXxngvbicST/Or5E/SOTnJOm58yp51rVzTyxL5+/biVa1c0sXZ2Na3VHr77hFKmrHn9b1rbSjwpuXdbt76J9F+uXUy118k/370dSL1EDZSTCp4/OsRzhwf1goCbV7fQOzpJUmJao1kz28+xwSCBUIzVahHB61Y1UeVx4nXZefcFcwy01dzxd+v40KXzeJMhqvmv16/grg+dn1E1lg2vmlfLH//xwoy1vdVtfh659VK+/qZzCrZhwYKFmYOzbqBQXlK4VUrZByCl7JNSJqSUSZTjjjJ3t6WhsszJ/z512HRidDo6h0P6O3z+bDjeJhuSSclDu09S5XGyq3tUPxcNlOhl7Rcf5YP/txlQXgUwNhlndaufKxY3EEtINhweVFJph4f4wMVzqSxzsLVjhD3qYZMrW/047DZWz1aOuhkJRtl0dIgbz2nmNUuVPUQH+yYoc9qoVvelXLO8kR2dAX6x6TjxpOT6lU0sU9+Z861HDwLoZ5VduXQW45E4X3pgHwvV89aEENy0uplYQnLN8ln6ZsmFsypY3ebnp88d46kD/dxwTjNel4OPXLGAyViSixfUmY5YuWrZLILRBNF4Ul/gf+3KRsqcNi6YV2va7W/cC6Lt+Slz2rn9DSv56htXZZT3Xr28kX+9bqnJwDRUlpmq4U4VixsrrMo1CxZeZpgJBurtGNJ7aS8ofD2wO+MbaajyOJmMJU3vxknH0wcHkFJ5k+WGw4MMB1PrS+kR0p6eMfrHI9z22iWUux3cq55TlkhKvnT/PkA5K61/bFJff1rVVsXaOX7lcMTDgzypVspdu6KRtXOqeeHosF7IsErdcb1udjX7ese4e0sniaTkupVNvO3cNkbDMe56sYPz59Xq6x7XqGsw33r0IG01Hv3YIe16Xblbr24zHiujFQMAvGV9G0saK/jkVYtN/f30NYs5OTaJw2bjfWrl2d9dMIebVjfziasWmmi1M9MgtZ5TUebk5+87j6++0bxuM7++nL9+4lL+44ZlepUbwGtXNulvbbVgwYKFXDirJ0kIIXzAVcDfGy5/TQixGuUdUcfT7mWFx2VnHOVV0cYDKo041DdOudvBLRfP5c87enj6YD+vX6O89fMtP9pELCH57tvX0FbjZbtqdC5eUMc1yxt5aNdJ/vOmFWw+PsLJsUn+6dUL+J8nDvPovj4O9SkbJ7Vj8c+dW8OGI0MMBqPUlbtZO7uaa5c3cts9u/juE4doq/HonvyaOdUkJfzXg/tZ2lSp7925ZGEdG48M8VnDsSYLGiq4aXUz923v4boVTbrh+uCl86gsc/K282braTCf28G/v24ZToeNdxkM1JxaX9bjTy5aUMdX37CKhJT6qdNuh53vvG1NBq0Qgmc+fQXHhoKm/Tznz8t+KsCiWRVZj0uxYMGChUI4qxGUlDIopayVUo4arv2dlHKllHKVlPLGYl634XbYqHA7TNV0923v5pafv6S/NO5gn3KU/KqWKurKXTyxX0n3HR2Y4KXjI2zvDPCJ321HSsmurgA1Phet1R5ev6aFcfWQz3u2dVFR5uDDVyygvdbLn7Z2s6MrwIqWKr18+OIFtRzun+CBnb1ctWwWNpvQ966EogneoBpFUEqptcM533Zum250vveOtdz3kYtYmKbYv/3W1fzsfefqRwIBNFSU8bErF2YcKXPLxXP5O0MJdSG85dy2jDPFcmF2rTfr/h0LFixYmErMhBTflGD1bD8b1ZOrD/WN8/HfbufpgwN87K6tBEJRDvWPs0h9z8zlixt46kA/kXhCr6L7x8vns/nECE8e6Gdn1ygrW5QU2gXza2mocPObFzp4ePdJXreqiTKnnfdc2M7mEyNs6whw/tzUUSXXGzZiaqXRHped7759DZ+9bqnppGavy8FDt17CV9+4kredlyoMqPI4sx68KITgisUNptOCLViwYOGVileMgbphVTPHBoNs7Qhw14udOO2CO997Lv3jEb7x1wMMTkT1VNMN5zQzPhnnyf0DPLDrJMuaKvnEaxYxu8bLVx7cr5RLqwUHdvWkgucODyoR0FolAnrbubNpqlJeo/zhKxbofLT4PTx86yX805ULTWtBN5zTzAcvnZcR0VSWOXnrubNNB29asGDBgoVX0Gnm161q4vN/3sP3nzzMS8eHuXpZo/56hl89r5R7G98KWVfu5p9/v51gNMF/3rQcl8PGJ69axK2/206528HrDIv4H79yIcPBKH1jk/obKT0uO4984lJ8LkfG6QBLGitZ0ji1r7ywYMGChb81vGIMVLnbwfsvnsv3njyM22Hjk1cvAuB9F83lsX39XLN8lv7KCofdxvsvnstXH1beDfSmdUpUdOM5zXQHwly2qN60sO9zO/jGmzP30OR7GZ8FCxYsWDg9iGJOYJjpWL9+vdy8eTOJpOQrD+5jVZufGw0RUMdQiNZqj+lsNIBnDw3gdtg5b6513L0FCxYsnC0IIbZIKTNOSH5FGSgLFixYsPDywyvaQAkhBoCZcNBsHTBYkGrm4OXGL1g8nwm83PgFi+czgenkd46UMmPvyivCQM0UCCE2Z/MCZipebvyCxfOZwMuNX7B4PhM4G/y+YsrMLViwYMHCKwuWgbJgwYIFCzMSloGaWtxxthkoES83fsHi+Uzg5cYvWDyfCZxxfq01KAsWLFiwMCNhRVAWLFiwYGFGwjJQFixYsGBhRsIyUHkghLhTCNEvhNhtuHaOEGKTEGKXEOIvQohK9bpTCPEL9fo+IcRnDN/5hBBijxBitxDiLiFE2Qzh2SWE+Jl6fYcQ4nL1ulcI8YAQYr/K9+0zmV/DvTuEEAdVvt84jTy3CSGeFELsVeXzcfV6jRDiUSHEIfX/avW6EEL8jxDisBBipxBiraGt96j0h4QQ75np/Kr3K4UQXUKI700Hv1PNsxDia2ob+1Sa4t5BM/08L1HHeUQI8alC7cxUftV7fiHEH9S5t08IccGUMCmltP7l+AdcCqwFdhuuvQRcpn6+Bfii+vkdwG/Vz16Uly22Ay3AMcCj3vs98N4ZwvNHgJ+pnxuALShOixe4Qr3uAp4FXjtT+VX//gLwJfWzDaibRhk3AWvVzxXAQWAZ8DXgNvX6bcBX1c/XAQ8BAjgfeEG9XgMcVf+vVj9Xz1R+De19B/gN8L2XgYwvBDYAdvXfJuDyGcJzA3Au8GXgU4Xaman8qvd+AXxA/ewC/FPBoxVB5YGU8hlgOO3yIuAZ9fOjgOapS8AnhHAAHiAKjKn3HIBHvecFemYIz8uAJ9Tv9QMBYL2UMiSlfFK9HgW2Aq1MA6aCX/XeLcBX1HtJKeW07dCXUvZKKbeqn8eBfSiOyE0oExX1/5vVzzcBv5QKngf8Qogm4BrgUSnlsJRyBKWv185gfhFCrANmAX+daj6niWcJlKEoTTfgBPpmAs9Syn4p5UtArMh2ZiS/QogqFEfzpypdVEoZmAoeLQNVOvagPECANwPamwb/AASBXqAD+IaqeLqBb6jXeoFRKeW0Tu4syMXzDuBGIYRDCDEXWGe4ByihO3AD8PiZYRUokV+VR4AvCiG2CiHuFkLMOhOMCiHagTXAC8AsmXoD9EkURQ7KpO80fK1LvZbr+ozkVwhhA74JmNI7043T4VlKuQl4EmXu9QKPSCn3zRCeS21n2nCa/M4FBoCfCSG2CSF+IoTwTQVfloEqHbcAHxZCbEEJi6Pq9fOABNCM8sD+WQgxT83f3qRea0aJst41Q3i+E2Uibwa+DWxE6QMAasR3F/A/UsqjM5hfB0qEt1FKuRYljfON6WZSCFEO/BG4VUo5ZrwnlVzHjNrDMQX8fhh4UErZNU0sZuB0eRZCLACWooyPFuDVQohLpold7TenZFzka2cqMQX8OlDS9D+QUq5BcdRvmwreXjHvgzpTkFLuB64GEEIsAq5Xb70DeFhKGQP6hRAbUNJPEjgmpRxQv3MPSl78V2ebZyllHPiERieE2IiSh9ZwB3BISvntM8Wrylep/A4BIeAe9dbdwPunk0chhBNlUv9aSqn9bp8QoklK2auml/rV692YI9NW9Vo3cHna9admML8XAJcIIT4MlAMuIcSElHJKlNE08fwu4Hkp5YTa5kNqP56dATyX2s5M5bcL6JJSalHeH5giA2VFUCVCCNGg/m8DPgf8UL3VAbxavedDWajdr14/XyiVcQK4EiXXe9Z5VnnyqZ+vAuJSyr3q318CqoBbzySvp8Kv6uX9hZSyvxLYO438CZR8+z4p5bcMt/4MaJV47wHuM1x/t1BwPkqatxd4BLhaCFGtRtpXq9dmJL9SyndKKWdLKdtR0ny/nEbjNFUy7gAuU9PCTuAypmn+nQLPpbYzpZgqfqWUJ4FOIcRi9dLUzb9c1RPWPwlKeqsXZVGwC8Ur/ziK134QuJ3UaRzlKJ77HvXhfNrQzhdQjNVu4P8A9wzhuR04gDJhH0M58h4U71Oq17er/z4wU/lV781BKazYibJeNnsaZXyxKp+dBvlcB9Sqv31I5a9GpRfA94EjwC6UQhStrVuAw+q/9810fg1tvpfpreKbEp5RKvd+pI6ZvcC3ZhDPjeqYH0Mp+OkCKnO1M1P5Ve+tRkm97wTuZYqqUa2jjixYsGDBwoyEleKzYMGCBQszEpaBsmDBggULMxKWgbJgwYIFCzMSloGyYMGCBQszEpaBsmDBggULMxKWgbJgwYIFCzMSloGyYMGCBQszEpaBsmDBggULMxKWgbJgwYIFCzMSloGyYMGCBQszEpaBsmDBggULMxKviNdt1NXVyfb29rPNhgULFiy8LBFLJLHbbNjE2fn9LVu2DEop69OvvyIMVHt7O5s3bz7bbFiwYMHCGUPXSIhfPd/B7u5RJmMJJuMJJmNJklIigGgiSTiaJJFMsmZ2NT63g+FgBJfdRpnTTiSe5PhQkK7hMNFEErfDxs2rW/joqxfQVuOdFp6llChv+TBDCHEiG/20GyghxJ3A64B+KeUK9VoN8DuU1yccB94ipRxR30/yHZQj30PAe6WUW6ebRwsWLMxsSCk5PhTiwMkx7DYbTrvAZbcRSSQ5cHKcaDzJhfNrWTenOqsCPB0kkpJD/ePs7RljT88Y+3rHsAlBXbmLQDjGydFJ7DaB024jHE0wPhljbDJOmdPGVctmcetrFjGrsmzK+InGk/xy03G++deDxBJJljdX4nM7qPQ4KXPasAmBlOByKIYokUyy5cQI8aSkxudiLBFnMpbAYbexeFYFVy9rpK3Gw56eMf6wpYs/bu3izetb+cgVC2itNhuq4WCUjuEQiaRkW8cIj+3ro7GyjMWNlfQEwkTjSRx2wfz6cl63qokGtd/BSJyvP3IAr8vOv1y7pOi+TvvrNoQQlwITKC830wzU14BhKeXtQojbUN4d8v+EENcBH0MxUK8CviOlfFWh31i/fr20IigLFl7+GJ+McWwwSFKCz2Vn45EhHtlzkt3do4xNxgt+v6HCTWu1h3AsyWgoymQ8yYqWKl41t4aLFtRxTmtVSQZs45FBPn/fHg71TwBQ5rSxuLESm4DBiQhVHieNlR5AEokn8brslLudVHmcjISi3L+zBynh2hWNvHFtK/UVbqKJJC1+Dw0V7qy8HB2Y4HtPHGZn9yhuh42mKg/z6n3YhOD4YJAtHSMMjEd49ZIGvnjzClr8nqL7UwgnRyf536cO89sXO5FIbjinmfoKN8FInB2do+zuGcVoMpY0VtA7OsloOEZFmQOfy0EknmAkFMNhE1wwv5ZYIsnWjgDReJL3XzyXz12/NKPfQogtUsr16fyckfdBCSHagfsNBuoAcLlMvVL4KSnlYiHEj9TPd6XT5WvfMlAWLLx8cbh/nP996ggbDw9xcmwy4/7iWRWsa69meXMlq1r8CKGkr2Kqt95e68PttPPAzh5eODrMybFJvC47fq8LuxBs7wxwoG8cgBUtlbz3wrnccE4Tboc947ei8SSJpKR3NMy3HzvEn3f00Fbj4WOvXsja2X7aa3047MXXlp0YCvLLTSe4e3NnhoGt9jpZN6eaZr8HASSlkrZ7+uAAboedSxfVEY0n6QlMcmwwSEJK5tR6WdJYwZvXt3H5ovopjxY19ATCfP/Jw9y7rZtYUlLmsLGksZKLF9axrKkSu10wt9ZHe52PZFISjiXwuuw6P8cGg/zmhRNsODyE3SY4f14N161sYs3s6qy/N9MMVEBK6Vc/C2BESukXQtwP3C6lfE699zjw/6SUGdZHCPEh4EMAs2fPXnfiRNYUpgULFqYZyaRkS8cIW0+M0DkSIilhXp2PBQ3lVJQ56A5McqR/giMDE3QOh7DbBD634m0LAY/v78dpE7xm2SwWN1Ywv74ch00wNhljRXMVC2dVnDaPw8EoD+3u5ecbjnOofwKXQ0lvLWuqZElTBWPhOM8dHmDLiRGSqkp0OWz842Xz+cfL51PmzDRmpWAyluCl48OEowmcdhsdwyF2d4+ytWOEoWAUUF4JXO1zcdWyWXzwknnUlbv17yeTEiGYNoN0tjFjDZT694iUsroUA2WEFUFZsHB2sLdnjH/90y62dwYAqPI4EQICoZiJTghoq/Yyp9aLlBCMxglG4iQlrGiu5LPXL6O+wp3lF6YWUko2HB7imUMD6prSKCMqrytaKrlkYT1VHicep53XrmjU11AsTC9yGaizVcXXJ4RoMqT4+tXr3UCbga5VvWbBgoVpgJSSgYkIxwcVj37jkUGGg1Ha63zUeF2MhmMEwjFGwzFa/R5aqz0Mh6I47TY6h8M8eaAfv8fJ7W9YybUrGvF7XYASsRzunyAUjTOrsoy5db7TjkKmAkIILl5Yx8UL64BU/30uBz73K6Ko+RWFs/VE/gy8B7hd/f8+w/WPCiF+i1IkMVpo/cmCBQtmdI2EePbQIPGkxGET1PiUtZiTY5NE40mcdsFwMMb2zhE2nxhh3LA2Mq/OR0Olm42HhxgNx/B7lQX/yjInTx8cYCgYxe91Ek9I/F4nH7h4Lv94+XzdMGmo8bk4b27Nme56yRBC0FBhRUkzFQUNlBDiDfnuSynvKfD9u4DLgTohRBfweRTD9HshxPuBE8BbVPIHUSr4DqOUmb+vEH8WLFhQMBqK8c1HD/B/z5+gmMz9goZyXreqmSWNFbTX+Zhf78soK05Hrn0sFixMB4qJoG5Q/28ALgSeUP++AtgI5DVQUsq357h1ZRZaCXykCJ4sWHhFoHM4RN/YJGVOO25130ptuQuvq/jkxmgoxh+2dvHdJw4xFo7xd+fP4T0XtlNZ5iSaSDISjBJPShory/A47UQTSSrKHKeUcrOMk4UziYKzQEr5PgAhxF+BZVrKTV07+vm0cmfBwisQY5Mxfvbccf60rYvjQ6GsNH6vk9Vtfj56xQLWt2emyiZjCR7f189927t56sAA0USSixbU8rnrl7G0qdJEO5X7ZCxYOJMoZQ2qLW09qA+YPcX8WLDwikX/2CR3b+nijmeOMhqOccnCOt57YTtz68uJxpPKcTWxBAMTETqHQzyxv583/XATN69u5nWrmrHZ4MDJCXZ1B3jm4CATkTj1FW7edf4cblrdzKoSN6FasDDTUYqBelwI8Qhwl/r3W4HHpp4lCxZe/ghHE+zuGWV39yi9o5NsODzInp4xAK5c0sCtr1nEytaqvG2EonG++8RhfrbhGPdu79Gvt1Z7eO2KRm5a3cIF82uxn60TPi1YmGaUtA9KLZi4RP3zGSnln6aFqxJh7YOycKYQjSc53D/Bzq6AXoLdNzbJ4ESUwfEIQ8EIAIMTURLqjk+HTbB2djWXL6nnNUtnsajEjafhaIK9vWNIKVnYUEGV1znl/bJg4WxiSvZBqRV7eYsiLFh4JWEyluCpAwM8c2iAF44OcXwopBseUIxPfYWb+go3jVVlLG9W1n8aq8o4p9XPqrYq6nxubKcR5XhcdtbNyX5EjAULr2QUbaDU6OmrKNV8Qv0npZSVeb9owcLLCNs6RtjaESCeSHKgb5xH9/QxHolT7nZw3lzlPLEFDeWsbvNTW+7GZzh/zIIFC1OLUiKorwE3SCn3TRczFiycDUTjSR7a3cudG46zQz2yB5RKuquXN3LzmmYumFdb0iGhFixYOH2UYqD6LONk4WwgllDeZ7O7e5SklMyqLMNuE4SiCcLRBNF4kma/h7Vz/DRVZZZUSynpH49wdCCIwy5YUF9OOJagayTMpiND/PqFE/SPR5hX5+M/b1rOdSubKHPa8TjtVgGCBQtnEaUYqM1CiN8B9wIR7WKhkyQsWDgVSCl54dgwv3+pk8f29RX1LiCApqoy2qq9NPkVI3ZkIMjR/gnGI7m/f+mier76pnYuW1h/WmtFFixYmFqUYqAqUY4futpwTWIVTViYQsQTSR7ec5I7njnKzq5RqjxOrlrWyFXLZnHe3BocdkHf6CQS8DjteF12HHYbJ4aCbD4+wq7uUboDYbZ2jBCLS+bV+3j92hbm15czr95HIik52DeOz+2gxe9haVPllL7t1IIFC1OHM/K6jemGVWb+8kY0nuSJ/X1sPDLEkwf66RwO017r5YOXzuONa1tnxCnYFixYmD6cdpm5EGIR8ANglpRyhRBiFXCjlPJLU8inhb8BJJKSw/0TbO8c4WDfBH/e0cPAeASvy8769ho+e90yrlo2y1r/sWDhbxylpPh+DHwa+BGAlHKnEOI3gGWg/sYxNhljYDxCJJbk8MAEe3pGGZ6IMjapvEcoEIoRiiqvhI4lknQOh4kmkgC47DYuXFDLey9s5+IFdValnAULFnSUYqC8UsoX0/Z8FLdynQVCiMXA7wyX5gH/DviBDwID6vV/lVI+eKq/Y2HqMDAeYfPxYQYmIoyGYvpaz6H+CdPrHVx2G7XlLirLnFR6HLTVePG67ISiCexCebX3ooYK1sz2017rswoTLFiwkBWlGKhBIcR8lMIIhBBvAk75ZYJSygPAarUtO8qbc/+E8g6o/5ZSfuNU27YwNegbm+TEUIgjAxM8uKuXDYcHMRyiQGWZg3VzqrnxnGbaary47DZm13pZNKsCpxUJWbBg4TRRioH6CHAHsEQI0Q0cA945RXxcCRyRUp6wduVPLUaCUSXiCcfoH4vQOxpmNBxjQUM557T6mVPr1U9CiCeS7OgK8PTBQR7b28fe3jG9ndk1Xj58+QKuWjaLZr+HKo8Tp11YpyhYsGBh2lCUgVIjnA9LKV8jhPABNinl+BTy8TZSp6SD8tr3dwObgX+WUo5M4W+9bBGNJwlF41R5nBmGIZmUHOqf4PmjQ+ztGaNjOETHcIjuQDhvm1UeJ+11PgCODUwwNhlHCFg7u5rPvHYJy5orafZ7mFfns4yRBQsWzigKlpkLIRxSyrgQ4nkp5flTzoAQLqAHWC6l7BNCzAIGUVKJXwSapJS3ZPneh4APAcyePXvdiRMnppq1s4p4IsnRwSC7u0fZ3T3Gtk7lJIVYQlLrc7G6zY8QMD4ZZ3wyTu9omJFQDIBan4s5tV7aarwsaaykrcZDRZmTWZVumio9eN12DpwcZ2fXKDu7AnQHwgghaKos45JFdVy8oA6/13WWJWDBgoW/FeQqMy/GQG2VUq4VQvwAaAHuBoLa/dM9SUIIcRPwESnl1VnutQP3SylX5GvjlbAP6lDfOD9+VtmcGozGGRiPMBlTKt3KnDZWtlSxdk419eVu9vaOsbt7FIfNRrnbQUWZg7pyN+vbqzl/Xi1tNd6z3BsLFixYKB5T8bqNMmAIeDVKdCOYmpMk3o4hvSeEaDK8uff1wO7TbH/GIp5Isv/kOA/s6uUnzx7F7bBzbns11V4XNT4Xy1sqWdFcxbz6cmtPkAULFv7mUIyBahBCfBLFUGiGScNpHUOhrmddBfy94fLXhBCr1baPp9172WA4GOXAyXGCkTihWIK+0UkO9o1zsG+cwYko45MxgtGE/m6hN6xt4bPXLaW23H2WObdgwYKFmYFiDJQdKMdsmDScloGSUgaB2rRrf3c6bZ4tJJPK4aZ/2dnDC0eHODIQzKCpK3ezaFY5C2dVUO52UO52sKixgrWz/bRWW2k5CxYsWDCiGAPVK6X8z2nn5GWI4WCUjUcG2XB4iGcODtAdCFPudnBuezVvXNfKypYqqjxOvC4HtT4X1T6r8MCCBQsWikUxBspa/DAgkZQ8urePOzcc46Xjw0gJ5W4H58+r4dPXLOaa5Y14XNbhphYsWLBwuijGQF057VzMcBwfDLLxyBAbjgzy/JEhhoJRWqs93HrlIi5eWMc5rVXWGXIWLFiwMMUoaKCklMNngpGZBCkl+3rHeXxfHw/uPsk+9USFWZVuLltUz2uWzeLqZbMso2TBggUL04hSysxfcYglkupGV+XU7T09Y7x4bJjnjw7ROzqJELC6zc+/v24Zly2ut05TsGDBgoUziFekgZJS8k+/3U65247P5aC8zIHTbqNrJEzHcJCukTD9YxHCsUTGd+vK3Zw3t5pbF9VzxZIGGiqst61asGDBwtnAK9JAReJJ9nSPMh6JK/uQooohqvY6mVPrY1Wrn1kVbqo8TirKHFSUKf8vaChnrhUlWbBgwcKMwCvSQJU57Tzxqcv1vxNJSTSetKrrLFiwYOFlhIJn8b0cIIQYAGbCabF1KAfdvlzwcuMXLJ7PBF5u/ILF85nAdPI7R0pZn37xFWGgZgqEEJuzHXg4U/Fy4xcsns8EXm78gsXzmcDZ4Neqk7ZgwYIFCzMSloGyYMGCBQszEpaBmlrccbYZKBEvN37B4vlM4OXGL1g8nwmccX6tNSgLFixYsDAjYUVQFixYsGBhRsIyUBYsWLBgYUbCMlB5IIS4UwjRL4TYbbh2jhBikxBilxDiL0KISvW6UwjxC/X6PiHEZwzf+YQQYo8QYrcQ4i4hxLSdn1Qizy4hxM/U6zuEEJer171CiAeEEPtVvm+fyfwa7t0hhDio8v3GaeS5TQjxpBBiryqfj6vXa4QQjwohDqn/V6vXhRDif4QQh4UQO4UQaw1tvUelPySEeM9M51e9XymE6BJCfG86+J1qnoUQX1Pb2KfSTMtRMafA8xJ1nEeEEJ8q1M5M5Ve95xdC/EGde/uEEBdMCZNSSutfjn/ApcBaYLfh2kvAZernW4Avqp/fAfxW/exFeV19O9ACHAM86r3fA++dITx/BPiZ+rkB2ILitHiBK9TrLuBZ4LUzlV/17y8AX1I/24C6aZRxE7BW/VwBHASWAV8DblOv3wZ8Vf18HfAQyrvVzgdeUK/XAEfV/6vVz9UzlV9De98BfgN872Ug4wuBDShvBrcDm4DLZwjPDcC5wJeBTxVqZ6byq977BfAB9bML8E8Fj1YElQdSymeA9NeNLAKeUT8/CmieugR8QggH4AGiwJh6zwF41HteoGeG8LwMeEL9Xj8QANZLKUNSyifV61FgK9A6U/lV790CfEW9l5RSTtsOfSllr5Ryq/p5HNiH4ojchDJRUf+/Wf18E/BLqeB5wC+EaAKuAR6VUg5LKUdQ+nrtDOYXIcQ6YBbw16nmc5p4lkAZitJ0A06gbybwLKXsl1K+BMSKbGdG8iuEqEJxNH+q0kWllIGp4NEyUKVjD8oDBHgz0KZ+/gMQBHqBDuAbquLpBr6hXusFRqWU0zq5syAXzzuAG4UQDiHEXGCd4R6ghO7ADcDjZ4ZVoER+VR4BviiE2CqEuFsIMetMMCqEaAfWAC8As6SUveqtkyiKHJRJ32n4Wpd6Ldf1GcmvEMIGfBMwpXemG6fDs5RyE/AkytzrBR6RUu6bITyX2s604TT5nQsMAD8TQmwTQvxECOGbCr4sA1U6bgE+LITYghIWR9Xr5wEJoBnlgf2zEGKemr+9Sb3WjBJlvWuG8HwnykTeDHwb2IjSBwDUiO8u4H+klEdnML8OlAhvo5RyLUoa5xvTzaQQohz4I3CrlHLMeE8quY4ZtYdjCvj9MPCglLJrmljMwOnyLIRYACxFGR8twKuFEJdME7vab07JuMjXzlRiCvh1oKTpfyClXIPiqN82Fby9Ik8zn05IKfcDVwMIIRYB16u33gE8LKWMAf1CiA0o6ScJHJNSDqjfuQclL/6rs82zlDIOfEKjE0JsRMlDa7gDOCSl/PaZ4lXlq1R+h4AQcI96627g/dPJoxDCiTKpfy2l1H63TwjRJKXsVdNL/er1bsyRaat6rRu4PO36UzOY3wuAS4QQHwbKAZcQYkJKOSXKaJp4fhfwvJRyQm3zIbUfz84AnkttZ6by2wV0SSm1KO8PTJGBsiKoEiGEaFD/twGfA36o3uoAXq3e86Es1O5Xr58vlMo4AVyJkus96zyrPPnUz1cBcSnlXvXvLwFVwK1nktdT4Vf18v5CStlfCeydRv4ESr59n5TyW4Zbfwa0Srz3APcZrr9bKDgfJc3bCzwCXC2EqFYj7avVazOSXynlO6WUs6WU7Shpvl9Oo3GaKhl3AJepaWEncBnTNP9OgedS25lSTBW/UsqTQKcQYrF6aermX67qCeufBCW91YuyKNiF4pV/HMVrPwjcTuo0jnIUz32P+nA+bWjnCyjGajfwf4B7hvDcDhxAmbCPoRx5D4r3KdXr29V/H5ip/Kr35qAUVuxEWS+bPY0yvliVz06DfK4DatXfPqTyV6PSC+D7wBFgF0ohitbWLcBh9d/7Zjq/hjbfy/RW8U0JzyiVez9Sx8xe4FsziOdGdcyPoRT8dAGVudqZqfyq91ajpN53AvcyRdWo1lFHFixYsGBhRsJK8VmwYMGChRkJy0BZsGDBgoUZCctAWbBgwYKFGQnLQFmwYMGChRkJy0BZsGDBgoUZCctAWbBgwYKFGQnLQFmwYMGChRkJy0BZsGDBgoUZCctAWbBgwYKFGQnLQFmwYMGChRkJy0BZsGDBgoUZiVfE6zbq6upke3v72WbDggULFiycArZs2TIopazPuFHgtNu1+f5N16nApf6rbF0si8Hu7oB8909fkOFovCDtwPikfOuPNsqTo+GCtJFYQt7ysxfl9o6Rovj493t3yXu3dRVF+6OnD8vvPXGoKNr7d/TIz9yzsyjabR0j8v0/f1FG44mCtP1jiiz6ipTF+0qQxW1/3CEf2NlTFO13Hz8of/zMkaJo/7Kju2hZbD0xXLQsegNh+bYfbZKD45MFacPRuHz3T1+Qe3tGi+KjVFnc8XRxsrhna6f8/H27i6J94eiQ/NAvX5LxRLIgbamy+LufviD3dBcni0/+brt8dM/Jomi/+ch++fMNx4qinS5ZdAwF5dvv2CQDwWhB2mAkJt/1k+flob7xovj4xO+2TYssfvviCfnlB/YWRfvswQH54V9vkclkCbIIFZZF10hIXviVxyWwWWbR7YVSfN/M82/a31haLCbjCRLJwqeybzw8xNMHB+gaCRek3dkV4Pmjw2zvDBSk7R0N8/j+fjYcGSyGXf6wpYvH9hV8ZxkA9+/s5YGdvYUJgcf29fHHLV2ac5EXzx0a4LF9/fSNTRakLUUWPYEwT+zvZ+ORoYK0Ukru3tzFE/uLk8Wfd/TwwK4iZbG3FFkMFi2LrR0jbDo6xO6ewi84PTEU4umDA2yaJlk8uLs4Wfx1Tx/3bC3uJbjPHBzgkT19DAejBWlLlcUzBwd4/mhhWcQSSf64tYsnDxQni/t29PBQCbL407buomg1WYyECsti84lhNh4ZYv/JwrI43D/Bs4cGefHYcEHaaDzJPVu7eepgcbK4d3sPD+8+WRTtw7tPcm+RsnjqQD8P7OxlIhIvSPvScVUWvYVlMTgeoTuQWx/nTfFJKa8o+AszBKPhGDU+V16aIXXSFTPghiZU2iImqtbuaChWkHYyliAYTTAcjBSk1fgoxvhqfETiSULRBD53/uytxnMgFKO1unC7QFFKK0VbuH9j4TjxpCyqXe3344npk8VwMEprtbdI2sL9G1JpAuHC4+JUZBGJJ4uiHQpGGZuME0skcdrz+6T6WA5Hqa9wF0Vb3BxRZFHM3BspYZ4CDE9E8TjtRdEOBaOMhmMlyWI4GKWuvIAsJkqfI4FwEbIIFd+uRlesLIaDUUZCUeW9S0IUpAVFX1SUOYuiLYbnQjRFF0kIIVYIId4ihHi39q/Y7+Zp804hRL8QYrfhWo0Q4lEhxCH1/wLqU0FRA2Miov5f/CAaKqrdEgyf/vAKKy2FPsKwOogK8xFR2y6e50ARRlUfcEX0b7iE/mlKqxh+k6ryLlZpnYrCKGUMFdU/XcaF2x08BVkUq7Q0notzzDTaYvqnzqcSxlsxtIMabRHzNBJPMB6JFzWOlTZVp6GE/pU0hkpwfovjofixORlLMBGJF8UDKDzHEpLxIqIio0NbCNrzK0oWU2GghBCfB76r/rsC+BpwYzHfLYCfA9emXbsNeFxKuRDlrY5FvVK6mMmnPeSSaIvyAoqf1MMlRGahaJzJWJKoGgkU5uMU+leK0ipBgZdirIuhDYRjJKUSKSeLiChLk0XxPJc2LjQeincCSpHFuBoVFd12EUb1lPo3XbRTPI5Pue1ieC5hXuvjrZTIs8RnV5xDOz0RcEn9m8ifiSg2gnoTynvmT0op3wecA1QV+d2ckFI+A6QnYm8CfqF+/gVwczFtTb2nXLoXUIynrEcNRURFRg+yEM9SylNKxRXHcylR0SnIuIRJnZQwNpmfDylTqbLS+Cihf1M9Lk5BFlBYYSSSUk8xlpJyKcq7PwVZFDc2S49SI/Ek4QJO3KnKorT+FS+3UhyXUrIX8WThqCgcTRCOJUzfy9t2CVmiUrIow8EoLkduM1SsgQpLKZNAXAhRCfQDbUV+t1TMklJqK54ngVnZiIQQHxJCbBZCbIbSBtxUezmph1f8gIvGkwQLTChjnwr1LxhNEFXXJEpRciVNkiLWXU4l/zw+Gdd5zwWjsS7E80QkTjRRiixK6J9mSIpIP51KZFaqLAr1T1ljKI4WSotqTylqKDEqKuTEGftUqO1TlUUpz7qUMVSK41JMVGRMlxXiecjAZynOb0mOS1HrtFFq89QOFGugNgsh/MCPgS3AVmBTkd89ZUjliWR9KlLKO6SU66WU66FURTQ9tMUMONOEKtC2yUAVaHu4xGjrVFIdw6WkqkqMBArJrhRFVIphN0db0+PRFpeeOTVZFOpfKWMolkgyqkYYpTguxawrncp8SiQlY+H8kcB0jQujLEpae53idK4xKhqbLCQLg9GZQlmEogm9IGc69EW+4raiDJSU8sNSyoCU8ofAVcB71FTfdKBPCNEEoP7fX+gLNiEKKkRtARGKG3ClLPQNGryLQl7OYAmGZNCQny3Uv8ES0j5KRZfCZykLtaVUNI5HiogESlCeRtpCCnxwonilpVXPQalrAsWPoaKKJCaKl8WgUSkXMH6ljKGREmQMpyaLkVDhNcSSZDFhNOzTI4vi1lKKnyNGfVGw3RL4MGUZCtGeomGfcn0xETl9AwUghGgRQlwIzAb8QohLi/1uifgz8B7183uA+wp9wW4TJXmSpS3qFu/9FpP7nS4vxxxB5ee5FK/TSD+dUVFpz6/4/hWSxVAJzyOZlHpkUYrcjOnXQrTpn7PSlqDAS2m3FKV1qrJIJCXjpUQCpYyLUmRRgkNUKBLQKgnTfyM3H6ntB4VTmGdfX5QyLiJxQyBQpEN72ik+IcRXgQ3A54BPq/8+Vcx3C7R7F0qqcLEQoksI8X7gduAqIcQh4DXq33nhsImiH57PZS9Iqy0g+lx2JiJxIvECa0UTURw2ZR9Bob1Qw8EoPpdd/14hWpfDpvSvyInqc9kL5n61+w6bKJjKMcpivEhZaP0rlPoxyaIIWk3GhfYVaf0rThZGueXnYTQcI5GU+Fz2oiIBM89TKYtISWMIiuufdt9hEwU95VORhc5zEXNVoy0mDa7LuIi5B6XJopgxpDlMxbQLKX2RKCptV5q+KGU+pXguXl9MpYw1+hpf7j1mxUZQNwOLpZTXSSlvUP+ddpm5lPLtUsomKaVTStkqpfyplHJISnmllHKhlPI1UsqC260dtswUXyAUZeORQSbVShVNWS5oKM/wwEPROJuODOkev+ZVL2goV9tK0UfjSTYfH6Z3NKz1gaFglNm1XsDsYUgp2d09yqG+cf3aUDCqt5vujRwZmGCH4bQGzbuo9rkyaHtHwzx/dEj3wPL1bzgYZePhQd24aCH47FpvRpQzFbLQ+2d4JsmkZFfXKEcGJlL9m8hOC3C4f5xdXaMmWbRUe7CJzMisJ3AasjDRmtsNRhRZaGsRRlpFuaTajsQTvHR8WD+NIpGUjIRS48Iot6yyyCG3XLJoqCyjosyRMS66A2FeMJzWoD3refXlGbRDExE2Hh7Uozutf8q4MMutkCyMUVEuWWj9G04bFzs6AxwbDGaVRboxO9g3zu5usyxm12gyzpSF8bQGoyzSlacmC61sP98YGp+MsfHIIOOTmixScyQcS5iqCSdjCV48NszAeET/OxhNGMaFWRbbT1MWbTVeXHZbBm3ncIjNx4dNtC67jbYab0YENTAeYeORQeKaLPLoiwxZTKTkVowsQtEEteWnn+I7CuTfPnwWYbebI6h4IsmFtz/BO378An/Yohzxogl2fn15RlT0jh+/wNt//DzfefyQShvTacGc2/3MPbt40w838f/+uAuAyViSSDzJvDofYF5c/ulzx3jdd5/j7T9+Xr8WCMVoq/HitJujoicP9HPlN5/mpu9v0HkNhKL4vS5qvC4T7bHBIBd85Qnedsfz+vFDgZASbbVUe0yymIwlOPfLj/GOn7zAX3b0mvo3r86XoYjersrifx4/bKatz1Qut92zkzf9cBO3pcuiPnNC/eDpI9zwved4909fNMgiylxVbsZJ8vDuk7zmW89ww/eeI6imCwKhKNVeF36v2VgfGwxy4e3psojhdtho9hcjC7MCN0YCb/zBRt7+4+f54dNHMmjTZfHJ3+/gzT/cxL/dq+w5HwvHkJLUuAgWlkWq3UKyiOH3OqnxmcfFgZPjXHT7E7z1jufZqx4/FAhFqSxzUF/hNtFOROKs+5Iii0f2nDT3r86XYcxyyUKfIwYvPJcs5meR27cfP8RN39/AB37xkkEWsay0923v5ur/VmShzd9AKEpDpRuvGsmly+ItP9rEvt5MWRj7l08W87MYsxu/t4F3/PgF7nzuuM6vURbGtj/6m6285Ueb+OL9e0202rgwzr9vP3aQm7+/gQ/+cnNWWYxkkcWN33tOdzC0OVLtc5pod3YFuORrT/KmH27iqOoUKbpFGUNGfgOhqDJHfvwCTx4YyOA5PeOSSxbzipCFds/vzW1aijVQIWC7EOJHQoj/0f4V+d1ph8NmM4W/gXBM39jar1rrYET5u1X1toxekeaxpGjjZlqTQlQe8Ek1aghGVdrqTI/o+JDS7uBESvEFI3HK3Q6q0xTtcYPXpC0SByMJyt12ZRAZ+O0cDumfdZ6jSrsKbardoWDqqKT+8ckMnscmY6ajlI7rspg0yaKt2qPKLZPnk6PmdvPRGs/dCkYTVHmcVKZFAprcwLCOo8rN73WaJklHNllE4viyyGJwIpIpC3VctFV7MvZY6eNiTJNxihbSxsWAQqtFDZosWvwabWa7JllE4lllYfSmU2tahmdtoD1hkFvqWSeyjgvjuYMZc6Tam1Hwk0sWWedIDlmk5l5m/zqHzbKor3Djdtiy0kp1w7bGc7b5ZJZFiueULFLPwySLsUx9YYwEkkmpt50+R7T+pTuTWWVRnUVuQ8pYNo5poyyGs4yLZJosfG47NT63yck5MZRNXySyzpGegHFcmHlu9ntM/CaSUp+r6bTaHDHK4mi6LFQZl+c5iqxYA/Vn4IvARpQyc+3fjIDdJghGE3o6z2gkxtSHF9IGht8sOGOqRqdV20mnVdpODQZAH7hNVWVAWvWPQSlpKZBwNIHHpRidXHt7Rg18eFzKIBrKUaWn00YTeJx2atSJmsxSmWak1Xg2TnajLEbTZNGiDrihLLLQFkU1WTT7M2mN/dOekyILrX9G2hz9c9nxe5ym55vtWYc1WfjMsjB6q1r5cjhH/8KG0lpNJmHN6Gi0E5l8jOeQRS6edVnEDOMimKN/k2n987rSeDD0L9t4C6b20mSXWxwhYFZlGdFE6vSSfLJIzZHUb+eShU6bRRaxZJJkUpJISiLxpM5zrgoy4/PzuBTHxXg/kGU+mWWRvZhnNE0Wzeq81ngem1RO8TDRFqEvjM8DUvrCzLMqi0QOWeR41kY+lPnkzFmsZOyfNkdyjTej3NwOGzU+F+OTcT31p0XG2frXksVAaTyPp9HmOzuw2DLzXwB3kTJMv1GvzQikL5KaB3JKyJASnKYETUJOo23N4ilrC/QZyj6LpzxqUhiKRxqKJfC5Mj2+0ayKKI7PZVdC9iwDMp1nn9tOtc9l8qrMtKmBYbcJZlWW5ZaFOohCBq86lyw0HjTvqVKLBEzG0awQY4kk0URS7Z/Zi0uXGyhy9rnsityC+RVRSJOF1yyL7LRx7DZBY5U56jMWNaQ/62JkEUozUCM5lOdYOEY0niSWkFllkbt/joy1yew8K9FktdelnLagO3HZ2/U67VSrKRet7fyyyIyWc8mittyVERVpfEj16CaNv2xzJJvyDKlzRImss8tiLIssJmOpkycCOcabV1Xgxv5lcwIyZKHyIaUsYlzkkEUkrjvVhWSh8RyMxFNzJM94U2hTc2Q0HNONTiCLvgga5GakMdIWmiPJpNR5Nj47IO9hzsVW8V0OHAK+D/wvcHAay8xLhmagUhvgMgUXjCZw2W00qCc0Z9sxnwqVFcFpRkfzUo1CnogonoSmlCvKHFSUOUwDJ73tSDxJIimzeocjOQaRx6V4yoFQKlVnVNBjhv5p0QikPD4jD0ZD4nXa9dxvIA9tyBDeG2VslMV4JE4iKfXB6XHZqS13m8pz05+JiTZDFtn40DxlV04ZG/vncTn0xde8sogoikgrdc22vcAoY0gpIi1qiMQTen9G1dJhbVzUlrtwOWx5x4XuSbocRcoibpKbFhVlHUNqtJXRv1y0qowhpdjyySI98swnC28R0XJInXvZoslsPIfUOaKMi9zjzSiLGp8y7lPjIgetcT4VoS/SowZtXpjlpuqWqjKEMP92+rMOG+ZIPn2RHiFmjqHc2RltjmjGJl92Jp++SDc6rVlkkUwLBIw6IBeKTfF9E7haSnmZlPJS4Brgv4v87rTDnmGglP9b/B5TNOJRPVRIeUTaw1NozWmfijIHVZ6UZzY+qQhZW1cYn4zrg0jxPDM9F+1BGRWRV42K0hWRkVbjw+vKjIpGQlEqyhxUljlMIbvmPZllodxvrfaYBrLXnaLVFFBWWlUWlaos9AGnykLj2TihFI8vM82QTRaaZ5Y+oTJkoffPmSFjTRbGNEM2WWgTq7XaY0qXed2pcZGV1sADQG25mzKnLbWfxSC3WEKavHNNFumesi63yRihmKbA7RmyMNGGUx6716nwHDEcJBwIKa+FcDtspsja6yrQP8Mc8bqyRFDG+ZRFFm6HzUCbmk/psvDqEbC5f9p8GptMOS7erNFk1ESrZSS8+rgw09ZXuHFlk4U2LibyP+vscotloVV4bqwqwyYMtMEUrWasNNqKMieVZenpavO4D+lzROFjOE0Wxrlnys74XPorRYxyE8Kczs0+R7L3z2fUF3qmKiW38TSjkyELI22aQ+tznf4alFNKeUD7Q0p5kBlU1edQ3+uieURaiqi9zmvyiHzqGoYwCE5LPWm0Ukp9fcmX5tEGDLTKd2O696QoWqcp7A2EorTX+lK0hpC9xucmEE4VKIyGY8xRS081/pWQPdOLGw0rVVxVXqdpgdTrsmfSqjKZU2uWhdflMAw48yBqr/VlyELzftOdAFP/IilFq9BqKQtJIBTLKgudNmReHzHSmhSRz0U4Zl5vzJBFNLsstMlnlkVc6ZvXHG1pz1GThSZjQF//0fqntWvun1kpp9I3StpHf9bhmEHGWWQRjppok+rE9roNPBv65/c6qfI4zf1zO1JRg4HWJhRDki43TSnrKfNwlvlkkIVpjhjmXrosfG47teUuXcaxRJKJSDyNNhVtpUcCgXDMRKtlJLSxbDzpPhCK4fdkl0V6ZB0IxbDbRFZZpEeeug4wjgs1O+N2mB0MIy0oxsE4R4zOVjSuyiLLHPE4s0XW5vmUnp0xPouRUJRqn5MKt8P0/DxZ5shIUHmfVH2FOyOarE6LrI3j3ihjTRZ+b5ZxofI8PmnWAblQyll8PxFCXK7++wmwueC3zhC0CMr4ojOHTdBcZY4aPC47DrvNFBVp0cOcWh+JpCQYTegLpGVOmynPPxJK0YIaCcRSYaox/aQdBqspl4yQ3es0FSiMhKI0VJThcdr1yjrjAqlGo/1f7XVR5XGaoj6vwZgZI0Sfy05duTvDU/b7tJDdPODm1Hp1D8ckC4OXqiktvX+TKVmke8oTEeU4IRNtNGX4qn0u0ytFNK/abhOMhZVXjkgJXrWKT5O91j9NFsZoS2s3lyxM0aTLjsdlp8xpM40hrX/BaIJYQlm/KXPasNtE2rhI0erjQpt8bvMCvuY9msZQHlmMhGK0+r3YhEI7GTdHGJnjwkmlSRYJPbpPp/V7Xfi9zgxZ5ErlzKn15ZZFhtyM/dPSdg7TuAhkm09phn3M8EqRkWCU2TUqbchM6/e6kIYqTPMcySELA89+jxO/12lap/W67FSWObEJsugLrx65hKNxvG5FyWbXF9nniFFfjKbPJ1OWIVMWgVBqj505e5H5rANhdY54zfrCZ3RSg0ZaZ5rcUut85jFkdvgUWSRSsjDoi+xzJCWLXCjWQP0jsBf4J/XfHvXatEEIca0Q4oAQ4rAQIu87oew2YYqKRlRP0jj5tAVSwLSvSBdcTUpwWgpFCKF6RLG8tJCZyglkeSDpITuY0wFG7zd9sdhIq/TPrJRDenomc90lk1aZfBVuh3qaRO5BFDTIwli+mpXWGG2VpyKBQNpEHQ1lRlta/zT6ap9LT2EaPa1sUV+u/mVERXloAWoN/dN41jaBjoVjqozVMWSKGnI/61Tq15z20cdQKGZYDM8mi6giC5XnkEERZYsQs/XP53ZQq+7WN/YvPdrS5ojfk57KyS4Ln1EW6eM+6xyxZ5dbNlp3aq0oEFIW8ccm4zRUuPE47QptzDz30nnO7F+qtDpTbtllYbMJc1QUiiKEUgQQV504TV+AWbfkHRdF6AtjFF5IFumRZ6FxEYwo+iIzmsycI1p2JhVZFycLZT5lZi+yySIXiq3ii0gpvyWlfAPwAZQXChY+S/0UIYSwoxRkvBZYBrxdCLEsJz2Y1kdGw1F1T4lT3Tya0BdIAVM+dzSspjoM+VwtpAVMJZujWTyioGFR1+916QpIizCa1UggPWQ3TpJYIsl4JI7f46LS48i6WKzRKnwoHl9lmWFCqSG7x2XH47Tr+fVRdfJVljkZU1MgWv+EEKZ9Ram0j3kQZZOFNkh1jzacUrRaYYcWRY7otFq7cV25eIyGJBglFE0QTSQVnjVjbShH9XtURWSQsyYLc0FFpiwCYbMspJRqwYFDHRfm/pU5bTRUutVnHVdkrCmiLGktTRZjYXMRiEnGYbMiGpuMm2jTZRFLSF15jk3G9KrKbAv4xrRWqhpNWXutKHOoZ1ZGdD50WsPalsdpx+WwUe52mJRnmTNVYKTLwqV5ypmyMEYCxv4ZI4GMKNw4hpwOkxOnef7KuHCosoib2gWj46I9a4fJ6HjUqMh4fmcgrChl03zKoS8C4RhVarQFxjmi0TpzjgttXqcyEq6M9V8jbTiHLDQe/R6nri+M2Zl053ckTV8YszNaP4yvDNLmiHEd2uNy4HPZTcejBUJmWShriPEcsjDri7GwUqWoySIXiq3ie0oIUSmEqEEpM/+xEGI6iyTOAw5LKY9KKaPAb1FeZJgTNd6UFzcSTIW0oAgjbPCU09dSqjxOfYBrAyNF62YkqCiz7OkLc0piPKJMPi1kNqafwiaPKHPAVftSXlwoB63CcyoMN67RZPNojamOpISJaFwP2QH8Xpe+DqdNVPPki+Mzpi9UWWRba0hf4FaeRVSnrSt343Op3q9hnU+fUKGorrSM/dPX7tzGCrNUzjxDFjm8+wxZRBTj4DMq2lBKYWi0xv7psvC6MgptzLJQytfdDpueylHGUEoWXk0WaSk+TRbaeKs2KAxjQUX6GtSIFm2pSlkrX/c67Wok4ExFwOocqSxzEo4l9LSiVx8XqbRkLllkn0+ZaTtNFi67jZrylCHR5Nfi9+pOXK5xn5KFK+scyZaWNNJmlYVJXyhjKJss0vuXKQtDdiZLlmF2juyMX103M/LdWm1waCPGaDIlC32O+FyGOZKdNpmUjIbN+sJYvu522Cl3O0wRlJ4a1RxatXxd4zmbjI39S8nCmH0yR+HpssiFYlN8VVLKMeANwC+llK9CecPudKEF6DT83aVe02F8YeHAwIBpI5sxrQWpBUdv1hRf5oALmgank6i6mKsJuc0gZG2B1Gm3UW0IwzXalPcbzzmItAfu1wdG3BSylznteNXDF7XNtH7DIDIukCo8mz1ajQfQFmqN3q/T5MWl0xo9yVqfyyQLIaCtWvN+FWWvyUJLMwwZlIvO82RqkpgWoidSSstMa/QOU6kcLdVhTElE4kmSkqJkke79KgvRqQgq2xjSoq1an0t/pUggpBwz1ajuK9OUSypN7CSelExE4hnPOj2FaZRFQB9DBlpDQUWlx6FHAtpmWj1VZVyjMSmMtP6lOSMarSktmWs+GZwA7fXzOWWhKjijUQ2kzRFTWivnHMl0XEwFP8GYQRap+ZQui2qvy1TFZ5SFNj6z6Qu9KMc4n6LGyFpJ22lOXGVZKtJV5nUqI1HtdSov14wnM2ShVHeay8wzZZHqnyny9BojT2Vvo1FfGKOt1LjInCNJqRQ9hKPZ9UXGfArFMrIMKVlETbLQxpsnT3oPijdQDvXdTG8B7i/yO9MK4wsL6+vrTWmNUS2V40kNOG2BFFAXC1XaUIyqtAFnjLb065NxRlUh+1x2XHabOvBTIa1GGwhF9ajE73UZUlWpxeIqA2/64PRkprWMfIyFY/pmWq1/EcPg9qXRgiGtZVAuYUO0VeVJU0SedAWe8g6NslAGnBOvKouUgkuTWzhmmnzpaylel72gLEzRliGVY077FCELVbno40Kd2ClZpNJdxnSZcVzo7XrNPPs9TirK0sabOxWlam1mKKK0Z51LFpm0SopWG/da6tDvURTReCTORFqVlKl/4TRnZDLl0Wr8mdZzssgiY46EjbJwmGWRQRtP8Wxw4sIGo5NVFtmMTtoCfma7mRVjRn2hpYkzIkRnFtpQJm3YEDVUeZx6sVU2wx42ZCT0qC+c6cSNhuN6CtOXJgvNQBirFEOGaMvlsOF12RkLZzrK6dFWalzE9ArTdCcuaJgjJsclbNYXY5NxQrF4dlmEYyZZaONN4yEXijVQ/wk8gpJ2e0kIMQ9l4+50oRvzK+Vb1Ws5UWkYRHo1U1n20LOyzKGvTWlhqpk2bqBNTb4RdfFeCJFaK0pLEYEy4LWBUW3IgxsXiz1OJZ87ZqJ16esjobRBVFmm9M+Y6tAUrXaauObRKjn6uL6ZVqF1mPrnNXhExg2ZmbJIKZcMWXidGbLQJrXROdAnnyebgXKklFk4nuqfzyiLlHIpcyrVdqPh0mWhpDrSZWHon8fJ+GRMfdeRUppbnCwUGdttQi/lDalVlaZxEUqTRZlZFj53Hll4HIrSSlO0lWUOhTZoGG8epUK0Xz3zzMjz2GRM30xrnCOBkOK4aFGD3+vStyjosshI8aVkrDzruC4Lh11Zx9Jk4UunVceQwyYodzsy5ojHac8Yb3r/MuSWqrYbDceyyqIvXRaeNFn4XDllUelx6IY9l77w5JkjZU4bTnsqhelxZjouI6EYTrvA57IXIQvDuNdTv2aHNpe+iMST+jWP0zxHxiaVClPjHOkfj5gyEsbCs1z64lRkkQvFFkncLaVcJaX8sPr3USnlG4v57iniJWChEGKuEMIFvA3lPMCc0CbqZCzBZCxpttbpg0i9Pj4Z18PUijKHvpHNKLhKj3lgaIOq0pMyJJ40AzWiprVcDhsep133UIypKkWxmweR5rmMR+L6eVWmQRSOZ3hEAL3qYa1eozELx/TNtEZZBEIxJmPJlPI0lMWOql6OSRYRswLXZBHIKotUWiQ1OBUZV5Q59BJ/jVZbIHXYbfhcdjUSyPT4jNGWJueRLGmffLLQzlAzymIkFCUST8misiyV1tAqn8xKOZ5VKWtjSJOFthhudAK03zPKImWsFVm4HWmyMPSvMm0MpStaY9qnMl0WOs/OjGhEo+0bm1RK+Y2pHFNFXOa6SzZjbZRFlUEWGUprMjWGtLmgPWutfN3rsitbDbL0z1RQ4VKq7bTtI0XJQtUX6dF9NlkY1+myyyLlpBodM2P/jGPZ5zY7LiNBJeOSKQvlvDxbmiz0IgmfYVxEUpGnNj7HwnG9sMvYv171QFhf2hwZzTIudFrj3MuT+g1FSpFFKhDIhfx3VQghyoD3A8uBMu26lPKWYr5fKqSUcSHER1GiNjtwp5RyT77vaGH4cDA1qbV8Z/9YRF8g1WhBEaiS1nJhswn8HmXh1OgpG2k1DxxSeekyp00fFKmFWuVhK5uChZ6LNS4Wa22Ppg0ijedUJJDioycwaUodOmxKOz2BTNrRsDHtk2o3ndbvVbyqsFpt5/c6dVmMhJRFeaMCT8ktppeoagfUaqkFSClwXcaqbGq8LnZ2BTIWSLVJGQimUlU1PiexhNTfH5OSs3Jih1HRarLoHjH3L0MpG2SRSWvgWU37aOt/I0HzuDAp5XDqtSHa6dCKE2D2lDXlqcvC52RXdzSrLEypUY/yypVoIpkhC025GA17MJKjf1mUci5Z+L0uxiaVdT6jLDzOTFmY5pNBFtprH4yyMM+9mEEWLk4MhUxOgFGZCQQ2ARVqmfh4JK4ram1eaye5GGUxMZl93OtzxCjjHHNES+cOB6NMROK6Q2tXX+BnjCaN6zHKxmKfzltA1QE+t1lfjISUqE+rUK3xuegYDplkLIQwVSRq0bomCy17ZByfxiyD3+vS1//S+5dBm1VfqDyr54JqFbpGWSjjIlNfaGNurkEW2hjKd5I5FJ/i+z+gEeWIo6dRUm7jeb9xmpBSPiilXCSlnC+l/HIhei2U71InWrXXhd+jhP3a8fXp3v3QRJSgmuoA5diWoYlo9khAT19otMqJyMaCCuPGSS0VAMp+gEAoxlg4ri8WK2079MhMS3VoSj/Fc1rIbkhfZNAaPOVIPEmf+uqAal9qwKW3q/HYNzapp310WQQjOdfjTP0rd6lyS9F6nHacdqFGiLEstCkZa21rqQCfS8mja3t3OkfMPGsnmhvTPrlkUeVRthpoKZ58stD61xOY1FMdqWcdza6Iwln6lzZRjY6LmVYZb8FIpixG02VR7s7Jc3q6M1MW5rUUzYnLTptawJeyOFmY07kx07hPl0V6ClMfbz43QxMRU8QOhhSm6oHbbELnWXtFh9ewphMIRYuShZbOTckiz3xSdYB2vVp14rRT0bNGk5NxtcI09xwx7itK1xdDE1HTOqb+/NQsiub8ajx3jZgNifass80RfT5ptN60dKDPmWfuKdtHtFfsZMoiu+OSVV+kPetsKNZALZBS/hsQVE8xvx54VZHfPSPQBob2rha/Lji34YGYPWWd1qcNDMMgcpppx8IxdTOtWbkYFbjPpSjlEVUR+Q3GDKBrJGSefIZBpIW/+sDIYnTG0jyi1ERN619ZWv+8LtwOZS9MOq2mII4ZaDVZDE5E9QqsDFmY+uc2TNSU96t794Z0YG25m3hS0js6maaInKZUgFFuusLQ96VkpnIyJ1+aLNQ2TLLIoFX6c9wwhhRZuBmcSFNE6VF4mnIxlWwbUopmWhfxpOTkWPGy0Hk2jE8tzajxXFeeplwMY0jK1HW/Vzn+xmW3ZchCUyZH1fefGZ91hizKcsgii1I2pzBjJtpgNMFQMJp1jpjGm0F5GjMS2r6irLLIYnSSUpmT2rjQZZFhzDLnk/b8ekcnlexMGu2IunfLJDddgaecAGVcpM8nFxOROMOhKF5nynExpnPTZdExHMJhE7gctgxam1D6W5fLWKtr8tq7ovxel7q+nEmr8ZwaF2ZZxJPZZTGeTRaG7EwuFGugYur/ASHECqAKaCjyu2cEmsLo1L0cRXB15a6snqSZ1qnSuhmYUAeRW/P4UuH9eCSealfdXzM+GdNpjfsERg2epHFgGA9G1IzOaDhq4ME8iIxrYeMRxZO025RwXwvZs3mH2WXhNrSbSpdB6iVzRtrB8Yi+SQ9SLxbTUh0mWQSjTEym1hr0/k3G9eNTjP3rHA6ZFki1nHkgHNNLyY3KxWW36WcuKjJWJvVUyiLfGOoOhE2LxZpS7htTFJSxf4PqGPIYlLJy0n0sTRYp5eI1jYsssjAoIpcjJQujE+BxKkUkOaOGssz+aV54Oq2mTLQX4xmftSaL9MizbzRdFm5dFsb+adFyIJRlXIyEstOGo1nnkzEjoc29QEgxcm5Hbllk6ACfM6csMvVFagxp1zxpkbVm+Ixy0zIH2rjQNkUH1MrD9P51DofM86nMKLdCtKl0bpVHcdbTnd/0NXlj/xx2ZSNxZy59kT4ujPMpLfLszCULw3aXXCjWQN0hhKgG/g2lWGEv8LUiv3tGoHs5uqec8ka6htMqu7RoS6P1pLy49Fy8lus1ep0KrVtPgXgNilY7vmTE6OXoHm04Y8CNqhVY2Wi1xWKF1qGnMKvU8F4ZRE4608J7bcCl+qd5Wy6d1peW4suIGspdetrAZ1C05W6HPhCNPCdVWfjSJolSVRU18KBNkrBpgdSYBzc+D43WmOrQDuUdDkUzZJHzWQ9lykKjNS4Wm2gNXqpOq/ZPq0bKoC1XThgfGI+YnBFtcdkkCy2yHg5njaCyySKD1pDO1Xjwuhx4nHaDLNIjgcJzRB8Xg1nGhUbrTJNF+rjwpWSRzrP+rA2RZy5ZaJV5Kbllp9UKO7QUmFEWnTnWG7PpgIz5lK4vDLLoTJsjmhOXSauc/zgWTm2S1/bIjajp6owIcThsKsPWqmVHQln0xXA40/mdVOaIJuMqj3KCRqc+lrPPES3rUOtzpWgN5+tB/nGh9a+iLNd4U2UxGTPpi2wotorvJ1LKESnl01LKeVLKBinlD4v57plCKj1jtta1PjdR9YDFdK/6eBZFlE6r0WfQqgojmkiaaI0L+MbwF5QDZM3tOlKKSKXV1s2ihuqydJ41HhQ+3ETjaf0zyEKI1Hdry10ZtNVpnnIhWVR5nJmpDpMszDynUh3ZaPOncrS1omgimeYEuEgkJZ3DWWSR41mfGM4iizTaqnTDbuA5RWtewM+gVZVLev+qvU6GJtJkkYPWWCRRSBbG/mnt5uLZSKtVmGp8pMsileJLf9burLKoLDPOkRRt1v6VOekbj+gbizV+s8tCS2FmpjvTx5t20n3f2GSmLOJpsjDMEbfDZtisnWU+5dMXKq0nzYnLlEWKZ0+a49I7OklU3VicQetMiybzysI8T6WELsMc0daKtOfnSSsaOzEUpFKtMNXllj4ufOnjIlNfpMsi23wCiCXk1GzUFULMEkL8VAjxkPr3MiHE+4v57pmCJuSOoSBlThtl2uQrTw1U7f0pbocNl91Gh6poNaFnowXFE9Bp05SLQuvVP/s9TnoCYaKJpKngIBttZZmTaFxZwK82DSJ3Bg/6Qu1QUOdB4UP5XOF26DRVqnfYMRTUvaZ0PrTz9qrSDFS1N1MWLemySEuNGmWhva8HlImdSnWYFVE22olInGHDwrK2VpTOgzHNkFUWZaXJQnsm5WUpWjPPRlrzM8kYFznGkN/r0qPU9LRWRrtqOndoIqK3W+ZUDvc18qvwkOK5Os1YazLRzjozjyGnnhrLxnPmuEhFRbl4LlYWlZ7M+VSXZ44Y99EA+lpReruaDjg2GNRTozll4ckxn7LwbJRbUf0z6YvMOdLqN/OcLuO6POMtPTVqlEVLNn0xHMo6R5qryrBp2RltjgyHdF1olJsQ0KS+cTpX6tcsC/P4zCsLA8/ZUGyK7+coJd/N6t8HgVuL/O4ZgTbglPA+JSztYZc5bfo5UNpeA31PkSdTYaxs8eufq4y0WZTLqtYq/XO1N5Ua0/fGlDmy0lYZeTYMIu3k4py0ntTk0/q3oqXKMOBy0PpSeevGKmW3gNuhlFGn85xLFma5uTJojTxXlhnlptDUeI20hnbVFKZ2CogG7bORVhvoXSPhrLJYaZRFWSFZuJmlHsujpXM1nquyjIsVhv5VZB0XqcmXznNKxkp7RmWQTRbGRXZIPVeTjE1jKLN/q1qrdENUVWCOtNV4dN4q1dJhjeeULFL9W5HGR4YsfNllkW3u1eYaQ2oKMxxL6O0KIfSUU/rcA21cGPpXSBbezDFklEWZU3Fotc20WjRhHBfLmnLIItscacuvL4qThSuvLPQChRz6wjze8s+RBfXlqdJ4T0rGuWSxvLmyaFmcY+AjG4o1UHVSyt8DSVD2KQGJIr97RlDhVjaXAqYBl/IYPKZDCbUH6LKn9u4YPeX6CreBNtWesURYw/KW1MDw+4zKNTWINGRTLuk8T6ibdFeZDIPDQOvKuJ5uGLLR1uqTL+XhGPtkSvvkkkVZJs+5ZGHmWaHV0gcZPHuy86yV1RtpzQYsRatFWytbCrerpczaaswenEZfYUh11BgMibH/RscjPRUHsLixIutva7ROgyyK4Vmr4FxZxLPW0iymdrM8O0jNkXl15fo1IYSurCrS0j7Z2ssmCyOtURbZeDam6oqTRUyl9evXqrM4NmCQRRalnE5ba1DKGrTTUjQe9MjTYIDTi4P0tn2Zc8TYdnUWfWGUhXleZ8oYsssi17hw2BXeVxYx97RMzpKmlMFxOWymg6Y1WdQYZFHmNKdz9bZ9mXNkfr2PfCjWQAWFELWABBBCnA+MFvndDAgh3iyE2COESAoh1qfd+4z6DqgDQohrim3Tpu4jAkwhrZa2afanKSJVcH5jqsMguGy0Gj1g8jSMm82Mv238rMHkaZVl/16PuscglyIyTsQh9cDLpYZBVKZWB6XTasYnXRZan6qLkYXHnPOH3LIw85zZ3qJZ2ZWWkecJdYe8UWn5TTJO0Q5mkYWWzk2nLcshC83ImdMiyuRz2c3TxTSxVe/QOPmME9WoUE5VFtopEkZZVBmfh4FWKxleYaAtzzHetLRn7nExtbIwOXwGBa1hnkGB55ojGsyOS/a5p8li5WnIQnsmRhlrJ7MbHTgjrRaRg9lYG520XDxrmGtwGrI5ykbkcviMPGv7l3I5tEbaRFJZU0pPw+kZAKMsfDlkoY5PsyxSNA57fhNUrIH6JEr13nwhxAbgl8DHivxuNuxGORn9GeNF9Z1Pb0M5seJa4H/Vd0MVBW1wZQvZr1jSYKJNL6eFlHBfu6LRRKsJ2WEwgloKqSHtgeTy4rQJndPTMny+YF4tAAsbsg9OY7uaYjOG1aC8I0uhNaQ6KpTPly6sM9GWp4XvkJLFdSvTZKEOZodN6J5ULllU5eBZg2ZE89Geo04k7VXRYJ6cRtrFjYq8jLIQQujCMMpC61+6LDx5xsWNq5tNtJry1DbTQkoRa7vmC/GsoRhZaArWKItshgFgmWqklxlkoc2P9HYb1BTnhfNrTTyln3gAUyMLUyTgyVS0Rj5zjXvN826q0g+2SYtGUp9PRRYXpMlC65Npjqi65fqVTSZazcnRNtMCunJe0WKep7n0RTY+c+mLbLLINYY0w7S8OWWgjO9jMs4RbU3rvPYaE0+p/X2FZZHSLSlZaM8/XRbZkLeEQghxLtAppdwqhLgM+HvgjcBfUV6BcUqQUu5T20+/dRPwW/VliMeEEIdR3g21qZh226q9BEKjXLggpXTOn1fLnz96kcl7gtSi34XzU7QVZU4e+vglGROqoSI1aI08P/WpyzMGlbae4XHa9VdRADx32xXEE9JEW2/wJIzR0o/evY7B8YjJu6gwRCbnzU1Nnn+6ciHXrWxiocEDByWNd7h/wjTRrljcwH0fucjkPYE6EI/BhQtStJos5qWF4NoL/C5cUFdQFpoy83ud+poXwAv/eiXSLAqT52WcPL+85VUMh6K6EQTz5DPK4uNXLuL6lc0ZspidRRavXpJdFs1+D9s6AqZxUV/h5oF/upiFDeZ2tXFhHG8AT/zzZSYvEVLjosbnOmVZ/Or9mbIwer/nzk0pktteu4S3nttmWrAGpTClOxA2yeKGVU3MqfFyTpvfRNtW7WVn12hWWSyaVbws6tIcF80INFeVmSKLTZ95NfY0nWB0eoxpwj/8w4WMTcZMY9DoBKxvN8vibee1mYpyICWL8+eZZdFe6zWt0YASRew/OW6aI201Xu7/2MUsaTTLQnvWRlkIIXjsk5eZnr2RtrmqzJS1yCYLo74oJAvjXFw3JyWLL9y4gvdfPM8U3WrHsQ0Ho5w/L0X75nVtLG2qzJBFW42XQ/0TJlnMrs0hi6riZZEVUsqc/4CtQI36+VKgB8VAfRH4Q77vFvMPeApYb/j7e8C7DH//FHhTju9+CNgMbJ49e7aUUsrjgxPywMkxWQz6RsNyW8eITCaTBWnHwlH5/JFBGU8Upk0kkvLZgwMyFIkXxccLR4fkSDBSFO2uroDsGgkVRXukf1we6ju7sojFE/LZgwMyHC1OFpuODMpAKFoU7XTJojcQljs6i5NFIBSVLxwdkomzLIudnQHZEyhOFof6xuXh/vGiaKdLFpFYQj53aEBOxgrLIplMyg2HB+RYuDhZ7Ogckb2BcFG0pciieyQkd3UFiqIdCUbkS8fOviy2dYzIvtHiZHHw5Jg8NjBRFO10yALYLLPoeSHT3TcDhBA7pJTnqJ+/DwxIKf9D/Xu7lHJ1nu8+hnJ+Xzo+K6W8T6V5CviUlHKz+vf3gOellL9S//4p8JCU8g+5TSysX79ebt68OR+JBQsWLFiYoRBCbJFSrk+/nn+XFNiFEA6pVO1diRK1FPVdKeVrSmez9PdAAWzZsmVQCHHiFH5vqlEHDJ5tJkrAy41fsHg+E3i58QsWz2cC08nvnGwXCxmou4CnhRCDQBh4FkAIsYDTqOLLgz8DvxFCfAtlz9VC4MVCX5JS1k8DLyVDCLE5mxcwU/Fy4xcsns8EXm78gsXzmcDZ4LdQFPRlIcTjQBPwV5nKB9o4jSo+IcTrge8C9cADarrwGinlHiHE71HO+osDH5FSzqj9VhYsWLBg4cygUASFlPL5LNcOns6PSin/BPwpx70vA18+nfYtWLBgwcLLH8Xug7JQHO442wyUiJcbv2DxfCbwcuMXLJ7PBM44v3mr+CxYsGDBgoWzBSuCsmDBggULMxKWgcoDIcSdQoh+IcRuw7VzhBCbhBC7hBB/EUJUqtedQohfqNf3CSE+Y/jOJ9SzB3cLIe4SQhSxhfqM8OwSQvxMvb5DCHG5et0rhHhACLFf5fv2mcyv4d4dQoiDKt9vnEae24QQTwoh9qry+bh6vUYI8agQ4pD6f7V6XQgh/kc9Y3KnEGKtoa33qPSHhBDvmen8qvcrhRBd6r7FacEUy/hrahv7VJqMI2zOEs9L1HEeEUJ8qlA7M5Vf9Z5fCPEHde7tE0JcMCVMZtu9a/3TT6u4FFgL7DZcewm4TP18C/BF9fM7UI5pAvACx4F2oAU4BnjUe78H3jtDeP4I8DP1cwOwBcVp8QJXqNddKNsLXjtT+VX//gLwJfWzDeUE/umScROwVv1cgfL6mWUob5m+Tb1+G/BV9fN1wEMopwKeD7ygXq8Bjqr/V6ufq2cqv4b2vgP8Bvjey0DGFwIbALv6bxNw+QzhuQE4F6Uo7FOF2pmp/Kr3fgF8QP3sAvxTwaMVQeWBlPIZYDjt8iJSh9w+inL0EygnvfuEEA7AA0SBMfWeA/Co97woR0bNBJ6XAU+o3+sHAihHT4WklE+q16MoR161zlR+1Xu3AF9R7yWllNO2AVJK2Sul3Kp+Hgf2oTgiN6FMVNT/b1Y/3wT8Uip4HvALIZqAa4BHpZTDUsoRlL5eO4P5RQixDpiFch7ntGEKeZZAGYrSdANOoG8m8Cyl7JdSvgTEimxnRvIrhKhCcTR/qtJFpZSBqeDRMlClYw/KAwR4M6mTL/4ABIFeoAP4hqp4uoFvqNd6gVEp5bRO7izIxfMO4EYhhEMIMRdYh/kkD4QQfuAG4PEzwypQIr8qjwBfFEJsFULcLYSYdSYYFUK0A2uAF4BZUspe9dZJFEUOyqTvNHytS72W6/qM5FcIYQO+CZjSO9ON0+FZSrkJeBJl7vUCj0j1sOoZwHOp7UwbTpPfucAA8DMhxDYhxE+EEPlf9FQkLANVOm4BPiyE2IISFkfV6+ehvMSxGeWB/bMQYp6av71JvdaMEmW9a4bwfCfKRN4MfBvYiOFFlGrEdxfwP1LKozOYXwdKhLdRSrkWJY3zjelmUghRDvwRuFVKOWa8J5Vcx4wqkZ0Cfj8MPCilPOU3GZSK0+VZKKfeLEUZHy3Aq4UQl0wTu9pvTsm4yNfOVGIK+HWgpOl/IKVcg+Ko3zYVvBXcqGvBDCnlfuBqACHEIuB69dY7gIellDGgXyjvzVqP8nCPSSkH1O/cg5IX/9XZ5lkqZyx+QqMTQmxEyUNruAM4JKX89pniVeWrVH6HgBBwj3rrbuD908mjEMKJMql/LaXUfrdPCNEkpexV00v96vVcZ0x2A5enXX9qBvN7AXCJEOLDQDngEkJMSCmnRBlNE8/vQjmAekJt8yG1H8/OAJ5LbWem8tsFdEkptSjvD0yRgbIiqBIhhGhQ/7cBnwN+qN7qAF6t3vOhLNTuV6+fL5TKOIFy6O60pxiK4Vnlyad+vgqISyn3qn9/CagCbj2TvJ4Kv6qX9xdSyv5KlOOypos/gZJv3yel/Jbh1p8BrRLvPcB9huvvFgrOR0nz9gKPAFcLIarVSPtq9dqM5FdK+U4p5WwpZTtKmu+X02icpkrGHcBlalrYCVzGNM2/U+C51HamFFPFr5TyJNAphFisXpq6+ZeresL6J0FJb/WiLAp2oXjlH0fx2g8Ct5Pa7FyO4rnvUR/Opw3tfAHFWO0G/g9wzxCe24EDKBP2MWCOer0VJfLbB2xX/31gpvKr3puDUlixE2W9bPY0yvhiVT47DfK5DqhVf/uQyp/2LjUBfB84AuzC/A60W4DD6r/3zXR+DW2+l+mt4psSnlEq936kjpm9wLdmEM+N6pgfQyn46QIqc7UzU/lV761GSb3vBO5liqpRrZMkLFiwYMHCjISV4rNgwYIFCzMSloGyYMGCBQszEpaBsmDBggULMxKWgbJgwYIFCzMSloGyYMGCBQszEpaBsmDBggULMxKWgbJgwYIFCzMSloGyYMGCBQszEpaBsmDBggULMxKWgbJgwYIFCzMSloGyYMGCBQszEq+I123U1dXJ9vb2s82GBQsWLJwSAqEYJ8cmiSWSOO02GivL8HudJX2/OxAmaThb1SYELX5PSe2UitPlW8OWLVsGpZT16ddfEQaqvb2dzZs3n202LFiwYEHHvdu6+fojB+gJhGn2e/j0NYu5eU3mC5Pv3dbNZ+7ZRV1Mf1coTqedz71hZVb6bLjo9ieIB8IZ12f5PWy47dWnxV8uTAXfGoQQJ7Jdt1J8FixYsDDF0JR3dyCMBLoDYT5zzy7u3dadQfv1Rw4QNih5gHAswdcfOVD07/VkMU75rpfCXy5MBd+FYBkoCxYsnBXcu62bi25/grm3PcBFtz9RUDmWSn82kUt5/8ef92TQlmpcsqHZ7ynp+lQYl+4p4LsQXhEpPgsWLLy8oHnwmpLsDoT5xO+2s/nEMF+6eWVG+umKJfX8cUu3if4z9+wCKDmdVCx/xabnstHlUtKBcIx7t3Wb2mr2e7Iq+1zGJRs+fc1ikzwBPE47n75mcVb60zWK927rRqC87TAdpfBdCDPWQAkhjgPjQALl1d7rzy5HZxanmx+2YGEmI5sHL4FfP98BkGGMfv18R4Yy1Dz+qZ4X2YxnNmOYjy6X0QEyeC7VuGSD1l6xOuN0jeLXHzmQ1TgJKInvQpixBkrFFVLKwbPJwNkwFMVOkKn6LcsQWphKFDOmcnnqErjrhU4SaW/6zvXe76lMJ2n4wl/25Ex/GfuRL0326WsWc+vvthfFc6nGJRduXtNS9HdO1yjme35TqT9muoGaFpRaXTNdhiIXH/kG/lQ+/DNpCC38baDYMZUvwkg3TvkwlekkUPgfCcWy3usJhLl3Wzf/8ec9BMLZaTS6m9e08IW/7MnaVjaeSzEuU4HTNYq5np9dCObe9sCUObsz2UBJ4K9CCAn8SEp5h/GmEOJDwIcAZs+eXXSjpSjlUg1FKdFIPj6mYtG0GJwpQ3imUKr8rcjRjHTlW+118vkblpckl2LH1KevWcwnfrc9a2RkFyKrkUpf88jl8ed6tsU883xFAmVOG5++ewexZH4DWuVR9gF9/oblp526m06cjlHMFoFByrlI16unOt9msoG6WErZLYRoAB4VQuyXUj6j3VQN1h0A69evzzli0gUTisaLVsqlGIpSo5F8aYSpWDTNNiDA7DEVqsKZiUo8n/IpVv4zLXKcCXK+d1t3hvIdCcX49B92AMXLpdjKrpvXtLD5xHDG2pLHaeeN61pMa1DG60/uH8grp1zPdvOJ4aKKLPI5geFYsrAAgGA0biqEOBNOk/bd7kBYN/Atp1DcUSzS+2bL4lQYqwJPdb4JWUI4rX9JiJp896WUwyU3mv/3/gOYkFJ+I9v99evXy2wbddMHa97fAP77raszjFm2EN3vcbL981ebrl10+xNZJ2dLlo1y927rzpmf1vhI59tpE5SXOQiEYjkNTi5lrX0fAbGENP1WtqevDexieDiTivRz9+7KqtC+8oaV+uRMRzb5l/KspgrFGlZQnss7z5/Nl25eOa2/bUQumUDxcrl3W3fOqEiogy39908n2smGXP0QArKpuvS+5ZNDKSh1LGUbB9rYLtTvfHouWxvF/FYh+RvvV3mcOVOegtzpQKOMhBBbshXCnWoEtQVFtwlgNjCifvYDHcDcU2wXACGED7BJKcfVz1cD/1lqO9nSDblQ5rRlWHmnTWATkB7Rp3tIUFq0lS+NoEVJbodN58XrtBFLSt1YdgfCfPruHSaDY/RKsvU7W1pCe4DZ0ia52jDykC9CmeqI4N5t3Tkruf7jz3sYzTFBssm/1Mi4UCRaqH/5IrZ81Wzr59QU/K1iFEkx3mu+yKFYueSq7IKUcTBGNMZo6L/futrEz6mmn3Iu3udgLJ0+V+pqqvjIhUKp0XzPOZ+eK7W4A8hYY9O2ANz6u+20ZCn5z7ce1+z3nNaSxSlFUPqXhfgx8Ccp5YPq368FbpZS/v0pN6q0Mw/4k/qnA/iNlPLLuehzRVBzb3sg54Qpnpfsg9vvceJzO/QBEwhFCUYzB0mLYfIWSq0BLGzwcbg/aOI7V6STDS0F2s/1nfSBX6zsNC/ImGJIRzGeYCFFW8izrfY6s0a7diH45lvOMbW15j//mpW22utk27+nIuNiI9FCkWW+iK0nEM4pZ7/HSSSezOnp5oq+JOZxl+u3jeMyW4rGSGuMBnJ54KUo9WyOUbHRwumMk3TkynD88+93lFSsUUy72VCo6CJXRsUor0JzVQDHbr9e/71c2Rut3ULPsVh9VEp2Y6ojKA3nSyk/qP0hpXxICPG102wTKeVR4JzTbSdX6FmKws81RgPhmN52vgnRXuvJ8GDz/f6h/mAmD0XyWkz76aj2Ok2KSvOi/DkUfjq0yqZ8Xme6F1fKJkwg5wA3YjKWyDq5ElKavL9PX7M45zNNv15sJFoossznQeZzWLKNXaMsc0VfRj5yPZP0+7mUsdMuMhb1c3nguZy5bDiVPU3FRIP5yrvTkWvPjtZWsZGU0y5MDkuxhRDZ1v3S0ez3FIyuCjm9WtGGJr9csAtRVH+L1S2aAc211liMjE73qKMeIcTnhBDt6r/PAj2n2eaUIZbIvqh5ulFVKdh4dDinEpkO2IUoqf3JWCLjTK5P370jZ8osHbkmUDq0CZTtDLBfPd+R81gYjbYQwrEkb1zXgl2IjHvpSjuXt6pd147UOdW1iPQjY/IdQ3PFkowDnAtCM3iF+Mv3THIpI6P0vE4b5W4Hn/jddtPRQqWm0YpFoZRPMcfz3LymheoiT9POt2fn5jUtfOUNK2nxe5S1C48Tp908tjxOO99+62q+/qZzdLoWv4evvEFZOyx0LNPXHzmQ1zhpSjyXXLoDYS66/QmuWFKPx2nP2Y62JJFvnnqc9tOKGNPR4vfoUf4ft3RnZITeuK64FO7pRlBvBz5PKh33jHrtrOPebd1ZU25nGlP4zItCqYMsW2VSoTJaDZoH+okiPFaB8kyyVS/mQr7cdjY8uX+gYP/DsUTOMmaA9tseKOk3c8FoPHKta2gnJGSDx2mnzGnLuY8m31EzhSDIP06O33697khkiwwLeezF/P6pHJFT7FpGtvLubGgp8Hvp62D50ouF1v3So/h8xyFp0AxdvvRrdyDMH7d06xWO2Z5LLCF1vnOh0LxIR76xZ4yOckX5T+4fKO53TmcNaqYg2xpUPg/Y47QBZg/SaRNFKWa7EFR6HEWlv6YKAvC67EUZ3FNVWqeCd6mVZsVGG/481T5ThTPZ/0Lwuex8+fWKkvnMPTuLLlPW4Pc4CUbjpvQRoEcIpzMGc63ZgaK4c1Wwaovkv8phWLPB73EiBPoaXXpKF/KvQeVb39TaN64HpxeyVGWRY6lVa6Wg0HwotDYDuStpc0Fbz8m1HpWvmq5UpJf8V6U9X6Ps8vGjrYvBFK9BCSG+LaW8VQjxF7LoAynljafSbtpvXAt8B7ADP5FS3l7K94vZz6B5DJoiKAZJKfn8DctzltNONQRw4fwaNhwprnI/W2XedMDvcepl0Fcsqc9aYZeO6TZOUFy/z5QRC0YTfPL327HbRIaRKQaBcAynTeC0gdG2na5z5Pc4mZjMPd7zKbGeQLho7xeUOTYaVhSXtun33m3d3L+jV1e8+TYEF7NVZDwSN60Hf+aeXXzlDSszCjtyGaBT2ReXr71CkVE4luDW323H73FmrRLW1v1KqULWfjPfHspTrVA8le0lmnxyjfpi93Seaorv/9T/s+5LOl0IIezA94GrgC7gJSHEn6WUe4ttoxhvISElHqcdkVaVlQ8SpQxzOhSc5p0ay281b7MUnC5v2SrVTPftgv+4cTlA1hzzTMeZ5DUpIXkKxklDsenWUjA2GctQisVCWzcsFsaTBT599w7+9Z6dhNIiyck8kWUxKeFEWme09ct0A5Ktqi5XxV6hE2PyGbRiIxXNASlzCF0mRmNdTOpcg009YqhKXSvLVrSh9aXQUU1G2IXg628+p+hospijoEo5TWPKUnxCiGqgTUq5cwraugD4DynlNerfnwGQUn4lG31FRYVct26d6dpE7RKG5l2LtBexYCqlupNwCnCqbUlJ3eH7GZl9KQlXJfboGNUdzyh/u6tK+y2ZBMRp8QHovKTiMiARxSYTJB0e7NExpM1J0ukt/XdOF1Jii4dJOjwKf6LIep+pfNZnG6X05Uz2W0pKeiaAPTJK2zbTaWZM1C5hcMHrTnkcG78nEjFqjz4MwFD7lUiHwYPP1b6UtL+Q6YN3rvlQ1jmp9aEk3UP2vuf7nWx8mvqQjGNLREk6PIi4UtWrzxNtHpcwbuzRMTzDhwnXLDDppvKh/SbSovotJeUnt1J34gnT5aeffnrqy8yFEE8BN6rtbAH6hRAbpJSfPJ12gRag0/B3F/CqtN/Wz+Jzu90ZDWjCG1xwfUkT5bQgJSSiyme7q6SJJeJh08NNuKuUv215HpFW12v8HVmaYkiHPToGkGEoy4f26wMw6XDrPJ7xKhAVIh6m5vjjBiNa7BdzK6OzbrhK5EHEw9iSMaX/hb53hvqmGYLBBa8r6XsJV6WikA1jbrj9ylPnO+170u5M8VRkmyKe4zDbHOMt4ark+Ks+hT06hq9/p67QC/1mtvYmapeQtDmLGxPp920ORCxI3eHHGZz/WoMOOQVZCkHCXcVE41r9dzTdBJiM1MjsSwsbZSEI1yyANAOVk/w0N+puk1KuEUJ8ACV6+rwQYqeUctUpN6q0+ybgWinlB9S//w54lZTyo9noc23UheKPOzqTi+vpIXi+3y6msmYqeX/X+bNzLmAXsx/pdCEAhz3/mk2u89pOFaVuMp0J0DZwams6xRxiOt0wVqiVWqafPoaLLVqaTjjtgq+/KTO9VUzf0jdUf+L323P6csYNq8WkyIqBIPc+0HzfKUXi6ZuRi93cn14gAbmLJE43tHAIIZqAtwD3n2ZbRnQDbYa/W9VrJUPbz1DICTEEv9PmbAoUA/D/2zv/ILuq+oB/vm/3JdlNGna3AoaVJGgL1GlIgrTGUgtEG1ozlfiDpgoVm9rpFJ0RBzOTVqeWkg4pv+vYsaKV0fqjBepEqFoKJR2dABYkISQkJUIAs64mNgkpZkNest/+cc7Z3H3vnvvOfe++t3f1fGZe9ubc98793nvPj+8553u+X7dvwqVlvdQQs8+iqvFAX5VNu/an7jW59q4nO945OW569+LU/UxgOuwb3rkoVc4koQV7sL86sd+lW8zsLWZEf43dnwRw0+WLGegLm1LqBD0ik9Y51l56TubenHrqy/BUd05w0jwbJoeb/+krxxv2RNVTvz8rqxq7vXBOmS7CmOiMgb5c+Qxbd1N56oHbh7Vxywgbt4xQCWw48zi9brem/DVwP/Csqj5mXRTtbjNPgMeAXxaRs0RkBvAHwL3tZNgb8PAU00iHfLcVblu9hPWrjFa1ed1yhgf6SmNcUK0IIv4F8CI38TXjmn/Z6r3euGrTPSSD/VVuXb2E21cv8XZ0DlWjxKQ1qNWKZG76rM85tNS8cjyfuXka9ZuPAbZ+YgXPb1jZ1c7W4Tx2LLQbU8Hs45nKTrMIRhKeUtzm8kNjNVBTzrLeuSujWb43wUQPbraRNg95Q3okjShcuxSKM35Ze0+Ya6i8srXVQanq3ap6nqr+mf3/c6r6rnbytPkcBz6E6fx2Anep6o5W82u2YzvJobFa6nf7qpVJox5HJbBVchU1ubu8WyOSIKR98+V6nLPdPDR7S077ytLCnFXYqqXD3PL7izM1+UNjtQnHv0nPAcMDfdx0+WK2/OUKbl+9pCEPZ/6f/H5eDbQonNWaY+2l5xhLzC5T32k+/sKBQjrjqaRHxOvyqn9GL3syFAJXRkPMzv/q3h2FxHsTObnBNwQ3g1AfqytP6amNa+qUfI8IVy6b3+BlI8/+snaNJM4GPg2crqq/KiLnAW9X1fXt5AtgHdB+s918oJhAf0dr46n7fXpE6Kk0N1M/fNTE1kl6Hy/TptJW9ulk4dYj8pjKNiPpOy1rT0fSRNhVhqw1gOR30ypPmj8xBR5+9kBqWIxu7ZFLkuxo08yJB/urrDxvHv/25Gjw1I9bx2jFLH2sdiI1dPt044Rq0xhXaWVRODl1F2J2fmisxuzAzfhZuMfdbNTm6J/R21DmVy0dDvZnmMW4atshY9p1dfRZYC3wGQBV3SYiXwHa7qCKpIgd1LOqldTNqLVxnaRtDPZXOXZ8vKGgpe2H8W2qLcJTQFHkcX/ieD6xAJplWDHYX53Y/BfyfpSTGyfdX19FqldKekWoZbiLcS6OfJtGN+3a3/CelJNhMZJypTnHbEaa14jkBsksdzeO5L4dX2d7wYKhYDdAbgHc5/29GUV3Tu7dhJapS849taFDdh116PvJUiKdyymfO58vPfoi39g2ysrz5gUZ9IR2TmL/yVK4QpVyX3DSLE8jocyqVrhww0Nteedot4PqV9X/lsnz/GEuGbpImobTV+2hIuGFIstNTbKcHK2N55pHVsz0YTL/g0dq3lhUeWmlg3EI8J43npnLWq5+umPtpeekWphVe2RSRxAy5Vmf96qlw1x33w6vvzpHnileXxRZr4NUaNjQuX7VIi5YMNTQkApQqcikjaX11l6h3g7SCGmUQtY56tcJDrXYUIWUvYrQ1NNGmhuk0CCPWRp8SCflO99X7eGSc09t+k4OHqk19ZWXpJlH+GR4myzlLDQagetk02Lh5bE2TmurxmrjE/fbatTqdo0kfiIir8PKbc3DR9vMs3DS1hdueOcijnTAmaxzuhjKQF81dSd9bVyZO6s6aZF5sL9KfzX8lfVVe3jPG8/MZU2VRDEjh/pnd+Wy+dafYeP16hdAVy0dZs6sRj0oaSEFzddN0vLeuGUk1et6fYiIvFO89bJB9ppXWv5uwfn5DSsnPns2rOSWyxs9XydHPZvXLWfPhpVsXre8IYBfM2vDEOuorGfhWyfw5TvQV/WWdafcNCt7c2dVuend2RaI9Z6v0+qzM0AKZf2qRRNrhi6PC183FLz2EmJJ6hirnWDTrv0T5SHL8EYV7zNL1oEsr+2nNHFlVZ+fb41t9ozeSe8lqzM/JcAYpt6yMYR2R1AfBO4AzhWREWAPcEU7Gdrw7n8COIdff+ECIrZD2pRHp/b1OBdKzQLdOTdLvhf/0litYb9A2p6XCnCK1Zic1prck+K0+SzHmb6K9sNDY6nPbv2qRcEONn0aeLKxTFs3cVrZsCfv6+7bkTrCrFakoYHN+57TIq361pbymM22GinW/RbSXdWEWkeFhN+uxzcD4dxdZY1m0kaSSV4aq008E99UYprvv3aeoy+PCzc8FBykM+86TbI8ZfnyrA80mVafk/mkvReRdDP9vmqFodkzG+qr7z4OjdWClFsXeDOEvMpiWx2UDSz4VheiHTiCMQl/oZ18gdtUtS0/fyGNZ1ajk0aoUUNaFF1fqPAsI4K0hi8Z5jl0bjckbICvEcnSjEIbiSwHlq3k5/BNYdT7evM1sL5wFj7Z2gm8VgS+ab4sZ6v1+J5F1j2ElLmsMBRZG3eTzzlEkekkIddxzypvuJPkfTYrS6H1wPdefG3K0dp4avRg332EBDBMjsJClMA8yhy07s18Lmb0NAx8HXjQ/v9aYBvw5VbyLYqPb3xq0sv3zX/m0YLqXcxnhQ1oVsiS0Wt9c8VJi7V62tUefb9PWytywc7auV4rjWKR+CoypN9zWhRZmLy2VERYhrz41o/SLLF8tKLguN/5vhNSHkPKQKgi0yl81+8RYVx10rMKHW1Bel0uqizlmRlKe44+j+NCtpGLC9+RlLnZelwrdb4db+YHgUcw03EfszK/Q1W3tphnkg+JyPuAx4FrVfVg/ReSvvjmz58/kb5xy0jq4qfPO/Gwp1CmxZjxWUWFFrI8i5FXLJvftYYP/AYHbj2m3Q4R8jeKzfDFl0pbz8hqROvNsbNGI0VMLbVKaMC+ZkzFPYSUgalWZHzXTyqmbg0l9Jn76nKR8adC7yPtOWYZ//jaRmjsnNLeb31khlbusSVffCLylKoussc9GMOI+ap6NPD3DwKvTjn1MeBR4CeYZ3Q9ME9V12Tll/TFl2UNluYDKm3aJCt4Wjv4ZAvtDDtNaHCxspC2Hlet5AsPMJ3wlZ+s9aPpRicb7lau75sl8U0Ph9TlbrQ5oc8xq0w1ix9VpMyFBiwEJt6Mqp4Qkb2hnZP9zVtDvicinyWnj78szaaoNZ1W8cn20liNrZ9YUfj18jLVUyx56ea7KwNTPcLoBlM5Qk27/oUbHkr1TTmzt9JgXOQMR5rJnzZVmxV/qhVCn2NWmUrWr7R2oWiZ02i1g1osIoftsQB99v8CqKrmiH8wGRGZp6rOVP0dwPY8v/c1sp1c0wml7B3AdGwAp7pB6yY/bx1yGchSKm9bvaSld1HUVG0RNCtTrn75Zlc6LXNLHZSqtraxJowbRWQJZorveeBP8/zY53ak22s6aZS9A4gNYPmZrh3yVE/dtUqWUtnquyibohpyH1Mlc7v7oApHVf+wnd+XuZEts2yO6doARspLsxDpZaYTSmXZFdU08shcpDJSWMj3qSQrYGEkEplaprtxRydGf9NxRBkic6sGID4jidhBRSKRjjLdrEMjrdOqMtKpiLqRSCSSiW+doizGQZHiKNoAJHZQkUiko6RFKy77mkukNYpWRn4mpvhEZD/t+/8rgldhNhlPF6abvBBl7gaFy1vpmzvUM2doWHp6Z+iJ48dOvHxgZHzs8IECLzHdnjFMP5mbylvpmzvUO/fUBYicHPyojh8/vP+FJu97gaqeWp/4M9FBlQUReTxtHrWsTDd5IcrcDaabvBBl7gZTIW+c4otEIpFIKYkdVCQSiURKSeygiuWOqRYgJ9NNXogyd4PpJi9EmbtB1+WNa1CRSCQSKSVxBBWJRCKRUhI7qEgkEomUkthBZSAinxeRfSKyPZG2WEQeEZGnROQ+EZlr06si8gWbvlNE/jzxm4+IyA4R2S4iXxWRWSWReYaI3GnTnxSRi216v4h8Q0R2Wbk3lFnexLk7ROQZK/e7OijzmSKySUSets/nwzZ9SEQeEJHd9u+gTRcR+aSIfF9EtonI+Ym8rrLf3y0iV5VdXnt+rojsFZFPdULeomUWkRttHjvtd6QkMp9ry/krIvLRZvmUVV57bkBE7rF1b6eIvKkQIVU1fjwf4LeA84HtibTHgIvs8Rrgenv8XuCf7XE/JlTIQmAY2AP02XN3Ae8vicwfBO60x6cB38MoLf3AJTZ9BvAd4HfLKq/9/3XAentcAV7VwWc8DzjfHv8C8AzweuBGYJ1NXwf8rT1+G/AtjPu5ZcB3bfoQ8Jz9O2iPB8sqbyK/vwO+AnxqGjzj3wA2Az328whwcUlkPg34NeBvgI82y6es8tpzXwA+YI9nAANFyBhHUBmo6reB+t3PZwPftscPAE5TV2C2iPQCfcAxwAV17MUEdezFNP4/LInMrwcesr/bBxwCLlDVI6q6yaYfA54AXlNWee25NcAN9ty4qnZsh76qjqrqE/b4/4CdGEXkMkxFxf5dZY8vA76ohkeBARGZB1wKPKCqB1T1IOZef6fE8iIibwBOB/6jaDk7JLMCszCN5kygCvy4DDKr6j5VfYxEhPIm+ZRSXhE5BaNo/qP93jFVPVSEjLGDys8OzAsEuBw40x7fA/wUGAVeBG62Dc8IcLNNGwVeUtWOVu4UfDI/CbxdRHpF5CzgDYlzgBm6A78H/Gd3RAVyymtlBLheRJ4QkbtF5PRuCCoiC4GlwHeB0/VkNOgfYRpyMJX+B4mf7bVpvvRSyivGfc0twKTpnU7Tjsyq+giwCVP3RoH7VXVnSWTOm0/HaFPes4D9wJ0iskVEPicis4uQK3ZQ+VkDXC0i38MMi4/Z9F8HTgBnYF7YtSLyWjt/e5lNOwMzyrqyJDJ/HlORHwduBx7G3AMAdsT3VeCTqvpcieXtxYzwHlbV8zHTODd3WkgRmQP8K3CNqh5OnlMz11GqPRwFyHs18E1V3dshERtoV2YR+SXgVzDlYxhYLiJv7pC47pqFlIusfIqkAHl7MdP0n1bVpRhFfV0RspUuom7ZUdVdwAoAETkbcAFt3gv8u6rWgH0ishkz/aTAHlXdb3/zNcy8+JemWmZVPQ58xH1PRB7GzEM77gB2q+rt3ZLVypVX3v8FjgBfs6fuBv64kzKKSBVTqb+squ66PxaReao6aqeX9tn0ESaPTF9j00aAi+vS/6vE8r4JeLOIXA3MAWaIyMuqWkhj1CGZrwQeVdWXbZ7fsvfxnRLInDefssq7F9irqm6Udw8FdVBxBJUTETnN/q0AHwf+wZ56EVhuz83GLNTusunLxFjGCfAWzFzvlMtsZZptj38bOK6qT9v/rwdOAa7ppqytyGu1vPs42di/BXi6g/IJZr59p6remjh1L+As8a4Cvp5If58YlmGmeUeB+4EVIjJoR9orbFop5VXVK1R1vqouxEzzfbGDnVNRz/hF4CI7LVwFLqJD9a8FmfPmUyhFyauqPwJ+ICIufkpx9c9nPRE/CmZ6axSzKLgXo5V/GKO1PwNs4KQ3jjkYzX2HfTlrE/lch+mstgP/BMwsicwLgf/BVNgHMS7vwWifatO32s8HyiqvPbcAY1ixDbNeNr+Dz/g37fPZlng+bwN+0V57t5VvyH5fgL8HngWewhiiuLzWAN+3nz8qu7yJPN9PZ634CpEZY7n3GVtmngZuLZHMr7Zl/jDG4GcvMNeXT1nlteeWYKbetwEbKcgaNbo6ikQikUgpiVN8kUgkEiklsYOKRCKRSCmJHVQkEolESknsoCKRSCRSSmIHFYlEIpFSEjuoSCQSiZSS2EFFIpFIpJT8P7sSr1spNc3LAAAAAElFTkSuQmCC\n",
      "text/plain": [
       "<Figure size 432x288 with 4 Axes>"
      ]
     },
     "metadata": {
      "needs_background": "light"
     },
     "output_type": "display_data"
    }
   ],
   "source": [
    "# Primeiro, vamos decompor a série pra avaliar tendência\n",
    "# Sazonalidade e resíduo\n",
    "from statsmodels.tsa.seasonal import seasonal_decompose\n",
    "\n",
    "resultado = seasonal_decompose(df)\n",
    "\n",
    "fig = plt.figure(figsize=(8, 6))  \n",
    "fig = resultado.plot()"
   ]
  },
  {
   "cell_type": "markdown",
   "id": "401f15ce",
   "metadata": {},
   "source": [
    "#### Teste de estacionariedade"
   ]
  },
  {
   "cell_type": "code",
   "execution_count": 11,
   "id": "7259e50f",
   "metadata": {},
   "outputs": [
    {
     "name": "stdout",
     "output_type": "stream",
     "text": [
      "Teste ADF:-2.2569903500472397\n",
      "p-valor:0.18621469116586947\n"
     ]
    }
   ],
   "source": [
    "# Teste de estacionariedade. \n",
    "# A hipótese nula é que a série não é estacionária\n",
    "# Ou seja, se o p-valor for menor que 0,05, rejeitamos\n",
    "# que a série não é estacionária. Caso seja maior, não podemos\n",
    "# descartar que a série não é estacionária\n",
    "# p-value < 0,05 = estacionária\n",
    "# p-value > 0,05 = não estacionária\n",
    "\n"
    "from statsmodels.tsa.stattools import adfuller\n",
    "\n",
    "result=adfuller(df['producao'].dropna())\n",
    "print(f'Teste ADF:{result[0]}')\n",
    "print(f'p-valor:{result[1]}')"
   ]
  },
  {
   "cell_type": "markdown",
   "id": "6a33eda5",
   "metadata": {},
   "source": [
    "#### Ou seja, a série não é realmente estacionária (p-valor >0.05, não podemos rejeitar a hipótese nula)"
   ]
  },
  {
   "cell_type": "code",
   "execution_count": 12,
   "id": "e211b8d9",
   "metadata": {
    "scrolled": true
   },
   "outputs": [
    {
     "name": "stdout",
     "output_type": "stream",
     "text": [
      "Performing stepwise search to minimize aic\n",
      " ARIMA(1,1,1)(1,1,1)[6]             : AIC=1912.925, Time=0.83 sec\n",
      " ARIMA(0,1,0)(0,1,0)[6]             : AIC=2404.500, Time=0.02 sec\n",
      " ARIMA(1,1,0)(1,1,0)[6]             : AIC=1998.731, Time=0.23 sec\n",
      " ARIMA(0,1,1)(0,1,1)[6]             : AIC=2057.803, Time=0.34 sec\n",
      " ARIMA(1,1,1)(0,1,1)[6]             : AIC=2000.250, Time=0.45 sec\n",
      " ARIMA(1,1,1)(1,1,0)[6]             : AIC=inf, Time=0.42 sec\n",
      " ARIMA(1,1,1)(2,1,1)[6]             : AIC=1880.044, Time=1.12 sec\n",
      " ARIMA(1,1,1)(2,1,0)[6]             : AIC=inf, Time=0.88 sec\n",
      " ARIMA(1,1,1)(2,1,2)[6]             : AIC=inf, Time=1.83 sec\n",
      " ARIMA(1,1,1)(1,1,2)[6]             : AIC=inf, Time=1.34 sec\n",
      " ARIMA(0,1,1)(2,1,1)[6]             : AIC=1925.181, Time=0.66 sec\n",
      " ARIMA(1,1,0)(2,1,1)[6]             : AIC=1942.791, Time=0.59 sec\n",
      " ARIMA(2,1,1)(2,1,1)[6]             : AIC=1881.313, Time=1.49 sec\n",
      " ARIMA(1,1,2)(2,1,1)[6]             : AIC=1880.682, Time=1.27 sec\n",
      " ARIMA(0,1,0)(2,1,1)[6]             : AIC=1955.485, Time=0.38 sec\n",
      " ARIMA(0,1,2)(2,1,1)[6]             : AIC=1887.170, Time=0.72 sec\n",
      " ARIMA(2,1,0)(2,1,1)[6]             : AIC=1912.243, Time=0.77 sec\n",
      " ARIMA(2,1,2)(2,1,1)[6]             : AIC=1879.804, Time=1.49 sec\n",
      " ARIMA(2,1,2)(1,1,1)[6]             : AIC=1912.963, Time=0.84 sec\n",
      " ARIMA(2,1,2)(2,1,0)[6]             : AIC=inf, Time=1.67 sec\n",
      " ARIMA(2,1,2)(2,1,2)[6]             : AIC=inf, Time=2.26 sec\n",
      " ARIMA(2,1,2)(1,1,0)[6]             : AIC=inf, Time=0.90 sec\n",
      " ARIMA(2,1,2)(1,1,2)[6]             : AIC=1814.177, Time=2.50 sec\n",
      " ARIMA(2,1,2)(0,1,2)[6]             : AIC=1952.465, Time=1.12 sec\n",
      " ARIMA(2,1,2)(0,1,1)[6]             : AIC=1997.474, Time=0.87 sec\n",
      " ARIMA(1,1,2)(1,1,2)[6]             : AIC=1814.373, Time=1.68 sec\n",
      " ARIMA(2,1,1)(1,1,2)[6]             : AIC=1814.636, Time=2.12 sec\n",
      " ARIMA(3,1,2)(1,1,2)[6]             : AIC=1815.095, Time=2.95 sec\n",
      " ARIMA(2,1,3)(1,1,2)[6]             : AIC=1815.486, Time=4.86 sec\n",
      " ARIMA(1,1,3)(1,1,2)[6]             : AIC=1815.064, Time=3.30 sec\n",
      " ARIMA(3,1,1)(1,1,2)[6]             : AIC=1815.163, Time=2.83 sec\n",
      " ARIMA(3,1,3)(1,1,2)[6]             : AIC=1816.736, Time=3.80 sec\n",
      " ARIMA(2,1,2)(1,1,2)[6] intercept   : AIC=inf, Time=3.19 sec\n",
      "\n",
      "Best model:  ARIMA(2,1,2)(1,1,2)[6]          \n",
      "Total fit time: 49.736 seconds\n"
     ]
    }
   ],
   "source": [
    "# Auto ARIMA nos ajuda a buscar os melhores parâmetros\n",
    "fit_arima = auto_arima(df, d=1, start_p=1, start_q=1, max_p=3, max_q=3,\n",
    "                    seasonal=True, \n",
    "                           m=6, \n",
    "                           D=1, \n",
    "                           start_P=1, \n",
    "                           start_Q=1, \n",
    "                           max_P=2, \n",
    "                           max_Q=2, \n",
    "                           information_criterion='aic',\n",
    "                           trace=True, \n",
    "                           error_action='ignore', \n",
    "                           stepwise=True)"
   ]
  },
  {
   "cell_type": "code",
   "execution_count": 13,
   "id": "18445027",
   "metadata": {
    "scrolled": true
   },
   "outputs": [
    {
     "name": "stderr",
     "output_type": "stream",
     "text": [
      "F:\\leon\\venvs\\live02_series_temporais\\lib\\site-packages\\statsmodels\\tsa\\base\\tsa_model.py:527: ValueWarning: No frequency information was provided, so inferred frequency MS will be used.\n",
      "  % freq, ValueWarning)\n",
      "F:\\leon\\venvs\\live02_series_temporais\\lib\\site-packages\\statsmodels\\tsa\\base\\tsa_model.py:527: ValueWarning: No frequency information was provided, so inferred frequency MS will be used.\n",
      "  % freq, ValueWarning)\n",
      "F:\\leon\\venvs\\live02_series_temporais\\lib\\site-packages\\statsmodels\\tsa\\statespace\\sarimax.py:966: UserWarning: Non-stationary starting autoregressive parameters found. Using zeros as starting parameters.\n",
      "  warn('Non-stationary starting autoregressive parameters'\n",
      "F:\\leon\\venvs\\live02_series_temporais\\lib\\site-packages\\statsmodels\\tsa\\statespace\\sarimax.py:978: UserWarning: Non-invertible starting MA parameters found. Using zeros as starting parameters.\n",
      "  warn('Non-invertible starting MA parameters found.'\n"
     ]
    }
   ],
   "source": [
    "# Agora que sabemos os melhores parâmetros, vamos criar um modelo SARIMAX \n",
    "# (versão do arima com parametros para sazonalidade)\n",
    "\n",
    "from statsmodels.tsa.statespace.sarimax import SARIMAX\n",
    "\n",
    "model = SARIMAX(df,order=(2,1,2),  seasonal_order=(1, 1, 2, 6))\n",
    "resultado_sarimax = model.fit()"
   ]
  },
  {
   "cell_type": "code",
   "execution_count": 14,
   "id": "a0ae1e6f",
   "metadata": {},
   "outputs": [
    {
     "data": {
      "text/html": [
       "<table class=\"simpletable\">\n",
       "<caption>SARIMAX Results</caption>\n",
       "<tr>\n",
       "  <th>Dep. Variable:</th>             <td>producao</td>            <th>  No. Observations:  </th>    <td>397</td>  \n",
       "</tr>\n",
       "<tr>\n",
       "  <th>Model:</th>           <td>SARIMAX(2, 1, 2)x(1, 1, 2, 6)</td> <th>  Log Likelihood     </th> <td>-899.089</td>\n",
       "</tr>\n",
       "<tr>\n",
       "  <th>Date:</th>                  <td>Wed, 22 Sep 2021</td>        <th>  AIC                </th> <td>1814.177</td>\n",
       "</tr>\n",
       "<tr>\n",
       "  <th>Time:</th>                      <td>11:02:48</td>            <th>  BIC                </th> <td>1845.907</td>\n",
       "</tr>\n",
       "<tr>\n",
       "  <th>Sample:</th>                   <td>01-01-1985</td>           <th>  HQIC               </th> <td>1826.755</td>\n",
       "</tr>\n",
       "<tr>\n",
       "  <th></th>                         <td>- 01-01-2018</td>          <th>                     </th>     <td> </td>   \n",
       "</tr>\n",
       "<tr>\n",
       "  <th>Covariance Type:</th>              <td>opg</td>              <th>                     </th>     <td> </td>   \n",
       "</tr>\n",
       "</table>\n",
       "<table class=\"simpletable\">\n",
       "<tr>\n",
       "      <td></td>        <th>coef</th>     <th>std err</th>      <th>z</th>      <th>P>|z|</th>  <th>[0.025</th>    <th>0.975]</th>  \n",
       "</tr>\n",
       "<tr>\n",
       "  <th>ar.L1</th>    <td>   -0.0873</td> <td>    0.350</td> <td>   -0.249</td> <td> 0.803</td> <td>   -0.773</td> <td>    0.599</td>\n",
       "</tr>\n",
       "<tr>\n",
       "  <th>ar.L2</th>    <td>    0.2828</td> <td>    0.214</td> <td>    1.321</td> <td> 0.187</td> <td>   -0.137</td> <td>    0.702</td>\n",
       "</tr>\n",
       "<tr>\n",
       "  <th>ma.L1</th>    <td>   -0.2982</td> <td>    0.337</td> <td>   -0.884</td> <td> 0.377</td> <td>   -0.960</td> <td>    0.363</td>\n",
       "</tr>\n",
       "<tr>\n",
       "  <th>ma.L2</th>    <td>   -0.6397</td> <td>    0.329</td> <td>   -1.944</td> <td> 0.052</td> <td>   -1.285</td> <td>    0.005</td>\n",
       "</tr>\n",
       "<tr>\n",
       "  <th>ar.S.L6</th>  <td>   -0.9976</td> <td>    0.003</td> <td> -380.177</td> <td> 0.000</td> <td>   -1.003</td> <td>   -0.992</td>\n",
       "</tr>\n",
       "<tr>\n",
       "  <th>ma.S.L6</th>  <td>    0.1145</td> <td>    0.040</td> <td>    2.832</td> <td> 0.005</td> <td>    0.035</td> <td>    0.194</td>\n",
       "</tr>\n",
       "<tr>\n",
       "  <th>ma.S.L12</th> <td>   -0.7764</td> <td>    0.037</td> <td>  -20.853</td> <td> 0.000</td> <td>   -0.849</td> <td>   -0.703</td>\n",
       "</tr>\n",
       "<tr>\n",
       "  <th>sigma2</th>   <td>    5.5549</td> <td>    0.307</td> <td>   18.092</td> <td> 0.000</td> <td>    4.953</td> <td>    6.157</td>\n",
       "</tr>\n",
       "</table>\n",
       "<table class=\"simpletable\">\n",
       "<tr>\n",
       "  <th>Ljung-Box (L1) (Q):</th>     <td>0.09</td> <th>  Jarque-Bera (JB):  </th> <td>42.26</td>\n",
       "</tr>\n",
       "<tr>\n",
       "  <th>Prob(Q):</th>                <td>0.77</td> <th>  Prob(JB):          </th> <td>0.00</td> \n",
       "</tr>\n",
       "<tr>\n",
       "  <th>Heteroskedasticity (H):</th> <td>2.75</td> <th>  Skew:              </th> <td>-0.17</td>\n",
       "</tr>\n",
       "<tr>\n",
       "  <th>Prob(H) (two-sided):</th>    <td>0.00</td> <th>  Kurtosis:          </th> <td>4.58</td> \n",
       "</tr>\n",
       "</table><br/><br/>Warnings:<br/>[1] Covariance matrix calculated using the outer product of gradients (complex-step)."
      ],
      "text/plain": [
       "<class 'statsmodels.iolib.summary.Summary'>\n",
       "\"\"\"\n",
       "                                     SARIMAX Results                                     \n",
       "=========================================================================================\n",
       "Dep. Variable:                          producao   No. Observations:                  397\n",
       "Model:             SARIMAX(2, 1, 2)x(1, 1, 2, 6)   Log Likelihood                -899.089\n",
       "Date:                           Wed, 22 Sep 2021   AIC                           1814.177\n",
       "Time:                                   11:02:48   BIC                           1845.907\n",
       "Sample:                               01-01-1985   HQIC                          1826.755\n",
       "                                    - 01-01-2018                                         \n",
       "Covariance Type:                             opg                                         \n",
       "==============================================================================\n",
       "                 coef    std err          z      P>|z|      [0.025      0.975]\n",
       "------------------------------------------------------------------------------\n",
       "ar.L1         -0.0873      0.350     -0.249      0.803      -0.773       0.599\n",
       "ar.L2          0.2828      0.214      1.321      0.187      -0.137       0.702\n",
       "ma.L1         -0.2982      0.337     -0.884      0.377      -0.960       0.363\n",
       "ma.L2         -0.6397      0.329     -1.944      0.052      -1.285       0.005\n",
       "ar.S.L6       -0.9976      0.003   -380.177      0.000      -1.003      -0.992\n",
       "ma.S.L6        0.1145      0.040      2.832      0.005       0.035       0.194\n",
       "ma.S.L12      -0.7764      0.037    -20.853      0.000      -0.849      -0.703\n",
       "sigma2         5.5549      0.307     18.092      0.000       4.953       6.157\n",
       "===================================================================================\n",
       "Ljung-Box (L1) (Q):                   0.09   Jarque-Bera (JB):                42.26\n",
       "Prob(Q):                              0.77   Prob(JB):                         0.00\n",
       "Heteroskedasticity (H):               2.75   Skew:                            -0.17\n",
       "Prob(H) (two-sided):                  0.00   Kurtosis:                         4.58\n",
       "===================================================================================\n",
       "\n",
       "Warnings:\n",
       "[1] Covariance matrix calculated using the outer product of gradients (complex-step).\n",
       "\"\"\""
      ]
     },
     "execution_count": 14,
     "metadata": {},
     "output_type": "execute_result"
    }
   ],
   "source": [
    "# resultados do modelo SARIMAX(2,1,2)\n",
    "resultado_sarimax.summary()"
   ]
  },
  {
   "cell_type": "code",
   "execution_count": 15,
   "id": "c29d65f7",
   "metadata": {},
   "outputs": [],
   "source": [
    "# Vamos realizar um \"backtesting\" com predições de valores dos 12 meses anteriores\n",
    "predicoes = resultado_sarimax.get_prediction(start=-12)\n",
    "predicao_media = predicoes.predicted_mean"
   ]
  },
  {
   "cell_type": "code",
   "execution_count": 16,
   "id": "464a65ef",
   "metadata": {},
   "outputs": [
    {
     "data": {
      "text/plain": [
       "(103.05569549114796, 112.29472153083464)"
      ]
     },
     "execution_count": 16,
     "metadata": {},
     "output_type": "execute_result"
    }
   ],
   "source": [
    "# intervalo de confiança\n",
    "\n",
    "intervalo_confianca = predicoes.conf_int()\n",
    "limites_abaixo = intervalo_confianca.iloc[:,0]\n",
    "limites_acima = intervalo_confianca.iloc[:,1]\n",
    "\n",
    "limites_abaixo[0], limites_acima[0]"
   ]
  },
  {
   "cell_type": "code",
   "execution_count": 17,
   "id": "a3be25e2",
   "metadata": {},
   "outputs": [
    {
     "data": {
      "text/plain": [
       "107.6752085109913"
      ]
     },
     "execution_count": 17,
     "metadata": {},
     "output_type": "execute_result"
    }
   ],
   "source": [
    "predicao_media[0]"
   ]
  },
  {
   "cell_type": "code",
   "execution_count": 18,
   "id": "2c80179c",
   "metadata": {},
   "outputs": [],
   "source": [
    "datas_previsao = np.asarray(predicao_media.index)\n",
    "datas = np.asarray(df.index)"
   ]
  },
  {
   "cell_type": "code",
   "execution_count": 19,
   "id": "884da51b",
   "metadata": {},
   "outputs": [
    {
     "data": {
      "image/png": "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\n",
      "text/plain": [
       "<Figure size 720x432 with 1 Axes>"
      ]
     },
     "metadata": {
      "needs_background": "light"
     },
     "output_type": "display_data"
    }
   ],
   "source": [
    "plt.figure(figsize=(10,6))\n",
    "plt.plot(datas_previsao,predicao_media.values,color='red',label='prediction')\n",
    "plt.fill_between(datas_previsao, limites_abaixo, limites_acima, color='red')\n",
    "plt.plot(datas, df.values, label='real')\n",
    "plt.legend()\n",
    "plt.show()"
   ]
  },
  {
   "cell_type": "code",
   "execution_count": 20,
   "id": "5dd2d8ac",
   "metadata": {},
   "outputs": [
    {
     "name": "stdout",
     "output_type": "stream",
     "text": [
      "4.1932623085676095\n"
     ]
    }
   ],
   "source": [
    "from sklearn.metrics import mean_squared_error\n",
    "from math import sqrt\n",
    "\n",
    "rmse_sarima = sqrt(mean_squared_error(df[-12:].values,predicao_media.values))\n",
    "print(rmse_sarima)"
   ]
  },
  {
   "cell_type": "markdown",
   "id": "e28c9dd6",
   "metadata": {},
   "source": [
    "#### FORECAST COM ARIMA"
   ]
  },
  {
   "cell_type": "code",
   "execution_count": 21,
   "id": "f5fa36db",
   "metadata": {},
   "outputs": [
    {
     "data": {
      "text/plain": [
       "12"
      ]
     },
     "execution_count": 21,
     "metadata": {},
     "output_type": "execute_result"
    }
   ],
   "source": [
    "# Forecast pra 12 values\n",
    "\n",
    "forecast = resultado_sarimax.get_forecast(steps=12)\n",
    "forecast_medio = forecast.predicted_mean\n",
    "forecast_medio.size"
   ]
  },
  {
   "cell_type": "code",
   "execution_count": 22,
   "id": "ba27d8ff",
   "metadata": {},
   "outputs": [
    {
     "data": {
      "text/plain": [
       "(106.25355251309331, 118.06355316252821)"
      ]
     },
     "execution_count": 22,
     "metadata": {},
     "output_type": "execute_result"
    }
   ],
   "source": [
    "intervalo_confianca_forecast = forecast.conf_int()\n",
    "intervalo_abaixo_f = intervalo_confianca_forecast.iloc[:,0]\n",
    "intervalo_acima_f = intervalo_confianca_forecast.iloc[:,1]\n",
    "\n",
    "intervalo_abaixo_f[10], intervalo_acima_f[10]"
   ]
  },
  {
   "cell_type": "code",
   "execution_count": 23,
   "id": "73579cfb",
   "metadata": {},
   "outputs": [
    {
     "data": {
      "text/plain": [
       "112.15855283781076"
      ]
     },
     "execution_count": 23,
     "metadata": {},
     "output_type": "execute_result"
    }
   ],
   "source": [
    "forecast_medio[10]"
   ]
  },
  {
   "cell_type": "code",
   "execution_count": 24,
   "id": "f95ef5d2",
   "metadata": {},
   "outputs": [],
   "source": [
    "datas_forecast = np.asarray(forecast_medio.index)\n",
    "pred_dates=np.asarray(predicao_media.index)"
   ]
  },
  {
   "cell_type": "code",
   "execution_count": 25,
   "id": "7197cbab",
   "metadata": {
    "scrolled": false
   },
   "outputs": [
    {
     "data": {
      "image/png": "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\n",
      "text/plain": [
       "<Figure size 720x432 with 1 Axes>"
      ]
     },
     "metadata": {
      "needs_background": "light"
     },
     "output_type": "display_data"
    }
   ],
   "source": [
    "dates=np.asarray(df.index)\n",
    "plt.figure(figsize=(10,6))\n",
    "plt.plot(datas_forecast,forecast_medio.values,color='green',label='forecast')\n",
    "plt.fill_between(datas_forecast, intervalo_abaixo_f, intervalo_acima_f, color='lightgreen')\n",
    "\n",
    "plt.plot(datas_previsao,predicao_media.values,color='red',label='prediction')\n",
    "plt.fill_between(datas_previsao, limites_abaixo, limites_acima, color='pink')\n",
    "\n",
    "plt.plot(dates,df.values, label='real')\n",
    "plt.legend(loc='upper left')\n",
    "plt.show()"
   ]
  },
  {
   "cell_type": "markdown",
   "id": "d1a02ce7",
   "metadata": {},
   "source": [
    "### Prevendo com XGBoost"
   ]
  },
  {
   "cell_type": "code",
   "execution_count": 26,
   "id": "7d4e111b",
   "metadata": {},
   "outputs": [
    {
     "data": {
      "text/html": [
       "<div>\n",
       "<style scoped>\n",
       "    .dataframe tbody tr th:only-of-type {\n",
       "        vertical-align: middle;\n",
       "    }\n",
       "\n",
       "    .dataframe tbody tr th {\n",
       "        vertical-align: top;\n",
       "    }\n",
       "\n",
       "    .dataframe thead th {\n",
       "        text-align: right;\n",
       "    }\n",
       "</style>\n",
       "<table border=\"1\" class=\"dataframe\">\n",
       "  <thead>\n",
       "    <tr style=\"text-align: right;\">\n",
       "      <th></th>\n",
       "      <th>producao</th>\n",
       "    </tr>\n",
       "    <tr>\n",
       "      <th>DATE</th>\n",
       "      <th></th>\n",
       "    </tr>\n",
       "  </thead>\n",
       "  <tbody>\n",
       "    <tr>\n",
       "      <th>1985-01-01</th>\n",
       "      <td>72.5052</td>\n",
       "    </tr>\n",
       "    <tr>\n",
       "      <th>1985-02-01</th>\n",
       "      <td>70.6720</td>\n",
       "    </tr>\n",
       "    <tr>\n",
       "      <th>1985-03-01</th>\n",
       "      <td>62.4502</td>\n",
       "    </tr>\n",
       "    <tr>\n",
       "      <th>1985-04-01</th>\n",
       "      <td>57.4714</td>\n",
       "    </tr>\n",
       "    <tr>\n",
       "      <th>1985-05-01</th>\n",
       "      <td>55.3151</td>\n",
       "    </tr>\n",
       "    <tr>\n",
       "      <th>...</th>\n",
       "      <td>...</td>\n",
       "    </tr>\n",
       "    <tr>\n",
       "      <th>2017-09-01</th>\n",
       "      <td>98.6154</td>\n",
       "    </tr>\n",
       "    <tr>\n",
       "      <th>2017-10-01</th>\n",
       "      <td>93.6137</td>\n",
       "    </tr>\n",
       "    <tr>\n",
       "      <th>2017-11-01</th>\n",
       "      <td>97.3359</td>\n",
       "    </tr>\n",
       "    <tr>\n",
       "      <th>2017-12-01</th>\n",
       "      <td>114.7212</td>\n",
       "    </tr>\n",
       "    <tr>\n",
       "      <th>2018-01-01</th>\n",
       "      <td>129.4048</td>\n",
       "    </tr>\n",
       "  </tbody>\n",
       "</table>\n",
       "<p>397 rows × 1 columns</p>\n",
       "</div>"
      ],
      "text/plain": [
       "            producao\n",
       "DATE                \n",
       "1985-01-01   72.5052\n",
       "1985-02-01   70.6720\n",
       "1985-03-01   62.4502\n",
       "1985-04-01   57.4714\n",
       "1985-05-01   55.3151\n",
       "...              ...\n",
       "2017-09-01   98.6154\n",
       "2017-10-01   93.6137\n",
       "2017-11-01   97.3359\n",
       "2017-12-01  114.7212\n",
       "2018-01-01  129.4048\n",
       "\n",
       "[397 rows x 1 columns]"
      ]
     },
     "execution_count": 26,
     "metadata": {},
     "output_type": "execute_result"
    }
   ],
   "source": [
    "df"
   ]
  },
  {
   "cell_type": "code",
   "execution_count": 27,
   "id": "7e179171",
   "metadata": {},
   "outputs": [
    {
     "data": {
      "text/plain": [
       "((384, 1), (13, 1))"
      ]
     },
     "execution_count": 27,
     "metadata": {},
     "output_type": "execute_result"
    }
   ],
   "source": [
    "treino = df.loc[df.index <= '2016-12-31']\n",
    "validacao = df.loc[df.index > '2016-12-31']\n",
    "\n",
    "treino.shape, validacao.shape"
   ]
  },
  {
   "cell_type": "code",
   "execution_count": 28,
   "id": "4a0b967d",
   "metadata": {},
   "outputs": [
    {
     "data": {
      "text/plain": [
       "(Timestamp('1985-01-01 00:00:00'), Timestamp('2016-12-01 00:00:00'))"
      ]
     },
     "execution_count": 28,
     "metadata": {},
     "output_type": "execute_result"
    }
   ],
   "source": [
    "treino.index.min(), treino.index.max()"
   ]
  },
  {
   "cell_type": "code",
   "execution_count": 29,
   "id": "643f7f42",
   "metadata": {},
   "outputs": [
    {
     "data": {
      "text/plain": [
       "(Timestamp('2017-01-01 00:00:00'), Timestamp('2018-01-01 00:00:00'))"
      ]
     },
     "execution_count": 29,
     "metadata": {},
     "output_type": "execute_result"
    }
   ],
   "source": [
    "validacao.index.min(), validacao.index.max()"
   ]
  },
  {
   "cell_type": "markdown",
   "id": "f3062c29",
   "metadata": {},
   "source": [
    "### Criando a variavel target e a lagged variable (que já é a consumo, certo?)"
   ]
  },
  {
   "cell_type": "code",
   "execution_count": 30,
   "id": "da3d3c20",
   "metadata": {},
   "outputs": [
    {
     "data": {
      "text/plain": [
       "DATE\n",
       "1985-01-01     72.5052\n",
       "1985-02-01     70.6720\n",
       "1985-03-01     62.4502\n",
       "1985-04-01     57.4714\n",
       "1985-05-01     55.3151\n",
       "                ...   \n",
       "2016-08-01    115.5159\n",
       "2016-09-01    102.7637\n",
       "2016-10-01     91.4867\n",
       "2016-11-01     92.8900\n",
       "2016-12-01    112.7694\n",
       "Name: producao, Length: 384, dtype: float64"
      ]
     },
     "execution_count": 30,
     "metadata": {},
     "output_type": "execute_result"
    }
   ],
   "source": [
    "treino['producao']"
   ]
  },
  {
   "cell_type": "code",
   "execution_count": 31,
   "id": "d57d90c0",
   "metadata": {},
   "outputs": [
    {
     "data": {
      "text/plain": [
       "DATE\n",
       "1985-01-01     70.6720\n",
       "1985-02-01     62.4502\n",
       "1985-03-01     57.4714\n",
       "1985-04-01     55.3151\n",
       "1985-05-01     58.0904\n",
       "                ...   \n",
       "2016-08-01    102.7637\n",
       "2016-09-01     91.4867\n",
       "2016-10-01     92.8900\n",
       "2016-11-01    112.7694\n",
       "2016-12-01         NaN\n",
       "Name: producao, Length: 384, dtype: float64"
      ]
     },
     "execution_count": 31,
     "metadata": {},
     "output_type": "execute_result"
    }
   ],
   "source": [
    "treino['producao'].shift(-1)"
   ]
  },
  {
   "cell_type": "code",
   "execution_count": 32,
   "id": "76356d37",
   "metadata": {},
   "outputs": [
    {
     "name": "stderr",
     "output_type": "stream",
     "text": [
      "F:\\leon\\venvs\\live02_series_temporais\\lib\\site-packages\\ipykernel_launcher.py:1: SettingWithCopyWarning: \n",
      "A value is trying to be set on a copy of a slice from a DataFrame.\n",
      "Try using .loc[row_indexer,col_indexer] = value instead\n",
      "\n",
      "See the caveats in the documentation: https://pandas.pydata.org/pandas-docs/stable/user_guide/indexing.html#returning-a-view-versus-a-copy\n",
      "  \"\"\"Entry point for launching an IPython kernel.\n"
     ]
    },
    {
     "data": {
      "text/html": [
       "<div>\n",
       "<style scoped>\n",
       "    .dataframe tbody tr th:only-of-type {\n",
       "        vertical-align: middle;\n",
       "    }\n",
       "\n",
       "    .dataframe tbody tr th {\n",
       "        vertical-align: top;\n",
       "    }\n",
       "\n",
       "    .dataframe thead th {\n",
       "        text-align: right;\n",
       "    }\n",
       "</style>\n",
       "<table border=\"1\" class=\"dataframe\">\n",
       "  <thead>\n",
       "    <tr style=\"text-align: right;\">\n",
       "      <th></th>\n",
       "      <th>producao</th>\n",
       "      <th>target</th>\n",
       "    </tr>\n",
       "    <tr>\n",
       "      <th>DATE</th>\n",
       "      <th></th>\n",
       "      <th></th>\n",
       "    </tr>\n",
       "  </thead>\n",
       "  <tbody>\n",
       "    <tr>\n",
       "      <th>1985-01-01</th>\n",
       "      <td>72.5052</td>\n",
       "      <td>70.6720</td>\n",
       "    </tr>\n",
       "    <tr>\n",
       "      <th>1985-02-01</th>\n",
       "      <td>70.6720</td>\n",
       "      <td>62.4502</td>\n",
       "    </tr>\n",
       "    <tr>\n",
       "      <th>1985-03-01</th>\n",
       "      <td>62.4502</td>\n",
       "      <td>57.4714</td>\n",
       "    </tr>\n",
       "    <tr>\n",
       "      <th>1985-04-01</th>\n",
       "      <td>57.4714</td>\n",
       "      <td>55.3151</td>\n",
       "    </tr>\n",
       "    <tr>\n",
       "      <th>1985-05-01</th>\n",
       "      <td>55.3151</td>\n",
       "      <td>58.0904</td>\n",
       "    </tr>\n",
       "  </tbody>\n",
       "</table>\n",
       "</div>"
      ],
      "text/plain": [
       "            producao   target\n",
       "DATE                         \n",
       "1985-01-01   72.5052  70.6720\n",
       "1985-02-01   70.6720  62.4502\n",
       "1985-03-01   62.4502  57.4714\n",
       "1985-04-01   57.4714  55.3151\n",
       "1985-05-01   55.3151  58.0904"
      ]
     },
     "execution_count": 32,
     "metadata": {},
     "output_type": "execute_result"
    }
   ],
   "source": [
    "treino['target'] = treino['producao'].shift(-1)\n",
    "treino.head()"
   ]
  },
  {
   "cell_type": "code",
   "execution_count": 33,
   "id": "570936e1",
   "metadata": {},
   "outputs": [
    {
     "data": {
      "text/html": [
       "<div>\n",
       "<style scoped>\n",
       "    .dataframe tbody tr th:only-of-type {\n",
       "        vertical-align: middle;\n",
       "    }\n",
       "\n",
       "    .dataframe tbody tr th {\n",
       "        vertical-align: top;\n",
       "    }\n",
       "\n",
       "    .dataframe thead th {\n",
       "        text-align: right;\n",
       "    }\n",
       "</style>\n",
       "<table border=\"1\" class=\"dataframe\">\n",
       "  <thead>\n",
       "    <tr style=\"text-align: right;\">\n",
       "      <th></th>\n",
       "      <th>producao</th>\n",
       "      <th>target</th>\n",
       "    </tr>\n",
       "    <tr>\n",
       "      <th>DATE</th>\n",
       "      <th></th>\n",
       "      <th></th>\n",
       "    </tr>\n",
       "  </thead>\n",
       "  <tbody>\n",
       "    <tr>\n",
       "      <th>2016-08-01</th>\n",
       "      <td>115.5159</td>\n",
       "      <td>102.7637</td>\n",
       "    </tr>\n",
       "    <tr>\n",
       "      <th>2016-09-01</th>\n",
       "      <td>102.7637</td>\n",
       "      <td>91.4867</td>\n",
       "    </tr>\n",
       "    <tr>\n",
       "      <th>2016-10-01</th>\n",
       "      <td>91.4867</td>\n",
       "      <td>92.8900</td>\n",
       "    </tr>\n",
       "    <tr>\n",
       "      <th>2016-11-01</th>\n",
       "      <td>92.8900</td>\n",
       "      <td>112.7694</td>\n",
       "    </tr>\n",
       "    <tr>\n",
       "      <th>2016-12-01</th>\n",
       "      <td>112.7694</td>\n",
       "      <td>NaN</td>\n",
       "    </tr>\n",
       "  </tbody>\n",
       "</table>\n",
       "</div>"
      ],
      "text/plain": [
       "            producao    target\n",
       "DATE                          \n",
       "2016-08-01  115.5159  102.7637\n",
       "2016-09-01  102.7637   91.4867\n",
       "2016-10-01   91.4867   92.8900\n",
       "2016-11-01   92.8900  112.7694\n",
       "2016-12-01  112.7694       NaN"
      ]
     },
     "execution_count": 33,
     "metadata": {},
     "output_type": "execute_result"
    }
   ],
   "source": [
    "treino.tail()"
   ]
  },
  {
   "cell_type": "code",
   "execution_count": 34,
   "id": "625c5ba8",
   "metadata": {},
   "outputs": [
    {
     "data": {
      "text/html": [
       "<div>\n",
       "<style scoped>\n",
       "    .dataframe tbody tr th:only-of-type {\n",
       "        vertical-align: middle;\n",
       "    }\n",
       "\n",
       "    .dataframe tbody tr th {\n",
       "        vertical-align: top;\n",
       "    }\n",
       "\n",
       "    .dataframe thead th {\n",
       "        text-align: right;\n",
       "    }\n",
       "</style>\n",
       "<table border=\"1\" class=\"dataframe\">\n",
       "  <thead>\n",
       "    <tr style=\"text-align: right;\">\n",
       "      <th></th>\n",
       "      <th>producao</th>\n",
       "      <th>target</th>\n",
       "    </tr>\n",
       "    <tr>\n",
       "      <th>DATE</th>\n",
       "      <th></th>\n",
       "      <th></th>\n",
       "    </tr>\n",
       "  </thead>\n",
       "  <tbody>\n",
       "    <tr>\n",
       "      <th>2016-07-01</th>\n",
       "      <td>114.5397</td>\n",
       "      <td>115.5159</td>\n",
       "    </tr>\n",
       "    <tr>\n",
       "      <th>2016-08-01</th>\n",
       "      <td>115.5159</td>\n",
       "      <td>102.7637</td>\n",
       "    </tr>\n",
       "    <tr>\n",
       "      <th>2016-09-01</th>\n",
       "      <td>102.7637</td>\n",
       "      <td>91.4867</td>\n",
       "    </tr>\n",
       "    <tr>\n",
       "      <th>2016-10-01</th>\n",
       "      <td>91.4867</td>\n",
       "      <td>92.8900</td>\n",
       "    </tr>\n",
       "    <tr>\n",
       "      <th>2016-11-01</th>\n",
       "      <td>92.8900</td>\n",
       "      <td>112.7694</td>\n",
       "    </tr>\n",
       "  </tbody>\n",
       "</table>\n",
       "</div>"
      ],
      "text/plain": [
       "            producao    target\n",
       "DATE                          \n",
       "2016-07-01  114.5397  115.5159\n",
       "2016-08-01  115.5159  102.7637\n",
       "2016-09-01  102.7637   91.4867\n",
       "2016-10-01   91.4867   92.8900\n",
       "2016-11-01   92.8900  112.7694"
      ]
     },
     "execution_count": 34,
     "metadata": {},
     "output_type": "execute_result"
    }
   ],
   "source": [
    "treino = treino.dropna()\n",
    "treino.tail()"
   ]
  },
  {
   "cell_type": "code",
   "execution_count": 35,
   "id": "f72a21af",
   "metadata": {},
   "outputs": [
    {
     "name": "stderr",
     "output_type": "stream",
     "text": [
      "F:\\leon\\venvs\\live02_series_temporais\\lib\\site-packages\\ipykernel_launcher.py:1: SettingWithCopyWarning: \n",
      "A value is trying to be set on a copy of a slice from a DataFrame.\n",
      "Try using .loc[row_indexer,col_indexer] = value instead\n",
      "\n",
      "See the caveats in the documentation: https://pandas.pydata.org/pandas-docs/stable/user_guide/indexing.html#returning-a-view-versus-a-copy\n",
      "  \"\"\"Entry point for launching an IPython kernel.\n"
     ]
    },
    {
     "data": {
      "text/html": [
       "<div>\n",
       "<style scoped>\n",
       "    .dataframe tbody tr th:only-of-type {\n",
       "        vertical-align: middle;\n",
       "    }\n",
       "\n",
       "    .dataframe tbody tr th {\n",
       "        vertical-align: top;\n",
       "    }\n",
       "\n",
       "    .dataframe thead th {\n",
       "        text-align: right;\n",
       "    }\n",
       "</style>\n",
       "<table border=\"1\" class=\"dataframe\">\n",
       "  <thead>\n",
       "    <tr style=\"text-align: right;\">\n",
       "      <th></th>\n",
       "      <th>producao</th>\n",
       "      <th>target</th>\n",
       "    </tr>\n",
       "    <tr>\n",
       "      <th>DATE</th>\n",
       "      <th></th>\n",
       "      <th></th>\n",
       "    </tr>\n",
       "  </thead>\n",
       "  <tbody>\n",
       "    <tr>\n",
       "      <th>2017-01-01</th>\n",
       "      <td>114.8505</td>\n",
       "      <td>99.4901</td>\n",
       "    </tr>\n",
       "    <tr>\n",
       "      <th>2017-02-01</th>\n",
       "      <td>99.4901</td>\n",
       "      <td>101.0396</td>\n",
       "    </tr>\n",
       "    <tr>\n",
       "      <th>2017-03-01</th>\n",
       "      <td>101.0396</td>\n",
       "      <td>88.3530</td>\n",
       "    </tr>\n",
       "    <tr>\n",
       "      <th>2017-04-01</th>\n",
       "      <td>88.3530</td>\n",
       "      <td>92.0805</td>\n",
       "    </tr>\n",
       "    <tr>\n",
       "      <th>2017-05-01</th>\n",
       "      <td>92.0805</td>\n",
       "      <td>102.1532</td>\n",
       "    </tr>\n",
       "  </tbody>\n",
       "</table>\n",
       "</div>"
      ],
      "text/plain": [
       "            producao    target\n",
       "DATE                          \n",
       "2017-01-01  114.8505   99.4901\n",
       "2017-02-01   99.4901  101.0396\n",
       "2017-03-01  101.0396   88.3530\n",
       "2017-04-01   88.3530   92.0805\n",
       "2017-05-01   92.0805  102.1532"
      ]
     },
     "execution_count": 35,
     "metadata": {},
     "output_type": "execute_result"
    }
   ],
   "source": [
    "validacao['target'] = validacao['producao'].shift(-1)\n",
    "validacao.head()"
   ]
  },
  {
   "cell_type": "code",
   "execution_count": 36,
   "id": "4b3dc08e",
   "metadata": {},
   "outputs": [
    {
     "data": {
      "text/html": [
       "<div>\n",
       "<style scoped>\n",
       "    .dataframe tbody tr th:only-of-type {\n",
       "        vertical-align: middle;\n",
       "    }\n",
       "\n",
       "    .dataframe tbody tr th {\n",
       "        vertical-align: top;\n",
       "    }\n",
       "\n",
       "    .dataframe thead th {\n",
       "        text-align: right;\n",
       "    }\n",
       "</style>\n",
       "<table border=\"1\" class=\"dataframe\">\n",
       "  <thead>\n",
       "    <tr style=\"text-align: right;\">\n",
       "      <th></th>\n",
       "      <th>producao</th>\n",
       "      <th>target</th>\n",
       "    </tr>\n",
       "    <tr>\n",
       "      <th>DATE</th>\n",
       "      <th></th>\n",
       "      <th></th>\n",
       "    </tr>\n",
       "  </thead>\n",
       "  <tbody>\n",
       "    <tr>\n",
       "      <th>2017-09-01</th>\n",
       "      <td>98.6154</td>\n",
       "      <td>93.6137</td>\n",
       "    </tr>\n",
       "    <tr>\n",
       "      <th>2017-10-01</th>\n",
       "      <td>93.6137</td>\n",
       "      <td>97.3359</td>\n",
       "    </tr>\n",
       "    <tr>\n",
       "      <th>2017-11-01</th>\n",
       "      <td>97.3359</td>\n",
       "      <td>114.7212</td>\n",
       "    </tr>\n",
       "    <tr>\n",
       "      <th>2017-12-01</th>\n",
       "      <td>114.7212</td>\n",
       "      <td>129.4048</td>\n",
       "    </tr>\n",
       "    <tr>\n",
       "      <th>2018-01-01</th>\n",
       "      <td>129.4048</td>\n",
       "      <td>NaN</td>\n",
       "    </tr>\n",
       "  </tbody>\n",
       "</table>\n",
       "</div>"
      ],
      "text/plain": [
       "            producao    target\n",
       "DATE                          \n",
       "2017-09-01   98.6154   93.6137\n",
       "2017-10-01   93.6137   97.3359\n",
       "2017-11-01   97.3359  114.7212\n",
       "2017-12-01  114.7212  129.4048\n",
       "2018-01-01  129.4048       NaN"
      ]
     },
     "execution_count": 36,
     "metadata": {},
     "output_type": "execute_result"
    }
   ],
   "source": [
    "validacao.tail()"
   ]
  },
  {
   "cell_type": "code",
   "execution_count": 37,
   "id": "cdd8e408",
   "metadata": {},
   "outputs": [
    {
     "data": {
      "text/html": [
       "<div>\n",
       "<style scoped>\n",
       "    .dataframe tbody tr th:only-of-type {\n",
       "        vertical-align: middle;\n",
       "    }\n",
       "\n",
       "    .dataframe tbody tr th {\n",
       "        vertical-align: top;\n",
       "    }\n",
       "\n",
       "    .dataframe thead th {\n",
       "        text-align: right;\n",
       "    }\n",
       "</style>\n",
       "<table border=\"1\" class=\"dataframe\">\n",
       "  <thead>\n",
       "    <tr style=\"text-align: right;\">\n",
       "      <th></th>\n",
       "      <th>producao</th>\n",
       "      <th>target</th>\n",
       "    </tr>\n",
       "    <tr>\n",
       "      <th>DATE</th>\n",
       "      <th></th>\n",
       "      <th></th>\n",
       "    </tr>\n",
       "  </thead>\n",
       "  <tbody>\n",
       "    <tr>\n",
       "      <th>2017-08-01</th>\n",
       "      <td>108.9312</td>\n",
       "      <td>98.6154</td>\n",
       "    </tr>\n",
       "    <tr>\n",
       "      <th>2017-09-01</th>\n",
       "      <td>98.6154</td>\n",
       "      <td>93.6137</td>\n",
       "    </tr>\n",
       "    <tr>\n",
       "      <th>2017-10-01</th>\n",
       "      <td>93.6137</td>\n",
       "      <td>97.3359</td>\n",
       "    </tr>\n",
       "    <tr>\n",
       "      <th>2017-11-01</th>\n",
       "      <td>97.3359</td>\n",
       "      <td>114.7212</td>\n",
       "    </tr>\n",
       "    <tr>\n",
       "      <th>2017-12-01</th>\n",
       "      <td>114.7212</td>\n",
       "      <td>129.4048</td>\n",
       "    </tr>\n",
       "  </tbody>\n",
       "</table>\n",
       "</div>"
      ],
      "text/plain": [
       "            producao    target\n",
       "DATE                          \n",
       "2017-08-01  108.9312   98.6154\n",
       "2017-09-01   98.6154   93.6137\n",
       "2017-10-01   93.6137   97.3359\n",
       "2017-11-01   97.3359  114.7212\n",
       "2017-12-01  114.7212  129.4048"
      ]
     },
     "execution_count": 37,
     "metadata": {},
     "output_type": "execute_result"
    }
   ],
   "source": [
    "validacao = validacao.dropna()\n",
    "validacao.tail()"
   ]
  },
  {
   "cell_type": "code",
   "execution_count": 38,
   "id": "06e7d1d9",
   "metadata": {},
   "outputs": [
    {
     "data": {
      "text/plain": [
       "((383, 1), (383, 1), (12, 1), (12, 1))"
      ]
     },
     "execution_count": 38,
     "metadata": {},
     "output_type": "execute_result"
    }
   ],
   "source": [
    "X_treino = treino.loc[:, ['producao']].values\n",
    "y_treino = treino.loc[:, ['target']].values\n",
    "X_validacao = validacao.loc[:, ['producao']].values\n",
    "y_validacao = validacao.loc[:, ['target']].values\n",
    "\n",
    "X_treino.shape, y_treino.shape, X_validacao.shape, y_validacao.shape"
   ]
  },
  {
   "cell_type": "code",
   "execution_count": null,
   "id": "f649a6ae",
   "metadata": {},
   "outputs": [],
   "source": [
    "modelo_xgb_um_dia = XGBRegressor(objective=\"reg:squarederror\", n_estimators=1000)\n",
    "modelo_xgb_um_dia.fit(X_treino, y_treino)"
   ]
  },
  {
   "cell_type": "code",
   "execution_count": null,
   "id": "c72a15a5",
   "metadata": {},
   "outputs": [],
   "source": [
    "ultima_linha = treino.iloc[-1]\n",
    "ultima_linha['producao']"
   ]
  },
  {
   "cell_type": "code",
   "execution_count": null,
   "id": "c6b4c6a1",
   "metadata": {},
   "outputs": [],
   "source": [
    "ultimo_valor_treino = np.array([ultima_linha['producao']])"
   ]
  },
  {
   "cell_type": "code",
   "execution_count": null,
   "id": "7b82f1d5",
   "metadata": {},
   "outputs": [],
   "source": [
    "predicao = modelo_xgb_um_dia.predict(ultimo_valor_treino)\n",
    "predicao"
   ]
  },
  {
   "cell_type": "code",
   "execution_count": null,
   "id": "abd80ca1",
   "metadata": {},
   "outputs": [],
   "source": [
    "X_validacao[0]"
   ]
  },
  {
   "cell_type": "code",
   "execution_count": null,
   "id": "88530a78",
   "metadata": {},
   "outputs": [],
   "source": [
    "mean_squared_error(X_validacao[0], predicao)"
   ]
  },
  {
   "cell_type": "code",
   "execution_count": null,
   "id": "e8d7e335",
   "metadata": {},
   "outputs": [],
   "source": []
  }
 ],
 "metadata": {
  "kernelspec": {
   "display_name": "Python 3 (ipykernel)",
   "language": "python",
   "name": "python3"
  },
  "language_info": {
   "codemirror_mode": {
    "name": "ipython",
    "version": 3
   },
   "file_extension": ".py",
   "mimetype": "text/x-python",
   "name": "python",
   "nbconvert_exporter": "python",
   "pygments_lexer": "ipython3",
   "version": "3.7.8"
  }
 },
 "nbformat": 4,
 "nbformat_minor": 5
}
